{
 "cells": [
  {
   "cell_type": "markdown",
   "id": "27c7a7e7",
   "metadata": {},
   "source": [
    "# Hybrid Approach for Watermarking Neural Network"
   ]
  },
  {
   "cell_type": "code",
   "execution_count": 2,
   "id": "da486797",
   "metadata": {},
   "outputs": [],
   "source": [
    "import os\n",
    "import tensorflow as tf\n",
    "tf.compat.v1.logging.set_verbosity(tf.compat.v1.logging.ERROR)\n",
    "import numpy as np\n",
    "import pandas as pd\n",
    "import random\n",
    "from tensorflow.keras.preprocessing.image import img_to_array, load_img, array_to_img, ImageDataGenerator\n",
    "import gzip\n",
    "from skimage.util.noise import random_noise\n",
    "from resnet20 import resnet_v1\n",
    "from tensorflow import keras\n",
    "from tensorflow.keras.layers import Dense, Conv2D, BatchNormalization, Activation\n",
    "from tensorflow.keras.layers import AveragePooling2D, Input, Flatten\n",
    "from tensorflow.keras.regularizers import l2\n",
    "from tensorflow.keras.models import Model\n",
    "\n",
    "import math\n",
    "from typing import List, Tuple, Dict\n",
    "from pathlib import Path\n",
    "from copy import deepcopy\n",
    "import hashlib\n",
    "import concurrent.futures\n",
    "\n",
    "import numpy as np\n",
    "import tensorflow as tf\n",
    "import matplotlib.pyplot as plt\n",
    "\n",
    "from stego import FloatBinary, str_to_bits, bits_to_str, dummy_data_generator"
   ]
  },
  {
   "cell_type": "code",
   "execution_count": 8,
   "id": "a7fe9974",
   "metadata": {},
   "outputs": [],
   "source": [
    "def resnet_layer(inputs, num_filters=16, kernel_size=3, strides=1, activation='relu', batch_normalization=True, conv_first=True):\n",
    "    conv = Conv2D(num_filters,\n",
    "                  kernel_size=kernel_size,\n",
    "                  strides=strides,\n",
    "                  padding='same',\n",
    "                  kernel_initializer='he_normal',\n",
    "                  kernel_regularizer=l2(1e-4))\n",
    "    x = inputs\n",
    "    if conv_first:\n",
    "        x = conv(x)\n",
    "        if batch_normalization:\n",
    "            x = BatchNormalization()(x)\n",
    "        if activation is not None:\n",
    "            x = Activation(activation)(x)\n",
    "    else:\n",
    "        if batch_normalization:\n",
    "            x = BatchNormalization()(x)\n",
    "        if activation is not None:\n",
    "            x = Activation(activation)(x)\n",
    "        x = conv(x)\n",
    "    return x\n",
    "\n",
    "\n",
    "def resnet_v1(input_shape, depth, num_classes=10):\n",
    "    if (depth - 2) % 6 != 0:\n",
    "        raise ValueError('depth should be 6n+2 (eg 20, 32, 44)')\n",
    "    num_filters = 16\n",
    "    num_res_blocks = int((depth - 2) / 6)\n",
    "\n",
    "    inputs = Input(shape=input_shape)\n",
    "    x = resnet_layer(inputs=inputs)\n",
    "    for stack in range(3):\n",
    "        for res_block in range(num_res_blocks):\n",
    "            strides = 1\n",
    "            if stack > 0 and res_block == 0:  \n",
    "                strides = 2  \n",
    "            y = resnet_layer(inputs=x,\n",
    "                             num_filters=num_filters,\n",
    "                             strides=strides)\n",
    "            y = resnet_layer(inputs=y,\n",
    "                             num_filters=num_filters,\n",
    "                             activation=None)\n",
    "            if stack > 0 and res_block == 0:  \n",
    "                x = resnet_layer(inputs=x,\n",
    "                                 num_filters=num_filters,\n",
    "                                 kernel_size=1,\n",
    "                                 strides=strides,\n",
    "                                 activation=None,\n",
    "                                 batch_normalization=False)\n",
    "            x = keras.layers.add([x, y])\n",
    "            x = Activation('relu')(x)\n",
    "        num_filters *= 2\n",
    "\n",
    "    \n",
    "    x = AveragePooling2D(pool_size=4)(x)\n",
    "    y = Flatten()(x)\n",
    "    y = Dense(num_classes,\n",
    "                    kernel_initializer='he_normal')(y)\n",
    "    outputs = Activation('softmax')(y)\n",
    "\n",
    "    model = Model(inputs=inputs, outputs=outputs)\n",
    "    return model"
   ]
  },
  {
   "cell_type": "code",
   "execution_count": 9,
   "id": "a11d7752",
   "metadata": {},
   "outputs": [],
   "source": [
    "os.environ[\"CUDA_VISIBLE_DEVICES\"]='0'\n",
    "gpus = tf.config.experimental.list_physical_devices('GPU')\n",
    "if gpus:\n",
    "    try:\n",
    "        for gpu in gpus:\n",
    "            tf.config.experimental.set_memory_growth(gpu, True)\n",
    "    except RuntimeError as e:\n",
    "        print(e)\n",
    "\n",
    "def log(content):\n",
    "    if log_dir is not None:\n",
    "        log_file = log_dir + '/log.txt'\n",
    "        with open(log_file, 'a') as f:\n",
    "            print(content, file=f)\n",
    "\n",
    "def lr_schedule(epoch):\n",
    "    lr = 1e-3\n",
    "    if epoch > 70:\n",
    "        lr *= 1e-3\n",
    "    if epoch > 60:\n",
    "        lr *= 1e-2\n",
    "    elif epoch > 40:\n",
    "        lr *= 1e-1 \n",
    "    print('Learning rate: ', lr)\n",
    "    return lr\n",
    "\n",
    "\n",
    "def load_data(dataset: str):\n",
    "    if dataset == 'MNIST':\n",
    "        mnist = tf.keras.datasets.mnist\n",
    "        (training_images, training_labels), (test_images, test_labels) = mnist.load_data()\n",
    "        training_images = training_images.reshape(60000, 28, 28, 1)\n",
    "        test_images = test_images.reshape(10000, 28, 28, 1)\n",
    "    elif dataset == 'CIFAR10':\n",
    "        cifar10 = tf.keras.datasets.cifar10\n",
    "        (training_images, training_labels), (test_images, test_labels) = cifar10.load_data()\n",
    "    return training_images, training_labels, test_images, test_labels\n",
    "\n",
    "\n",
    "def get_unrelated_images(dataset: str, sample_rate):\n",
    "    watermark_images = []\n",
    "    if dataset == 'MNIST':\n",
    "        train_images_path = './data/emnist/emnist-letters-train-images-idx3-ubyte.gz'\n",
    "        train_labels_path = './data/emnist/emnist-letters-train-labels-idx1-ubyte.gz'\n",
    "        with gzip.open(train_images_path, 'rb') as imgpath:\n",
    "            images = np.frombuffer(imgpath.read(), np.uint8, offset=16).reshape((-1, 28, 28, 1))\n",
    "        with gzip.open(train_labels_path, 'rb') as lbpath:\n",
    "            labels = np.frombuffer(lbpath.read(), np.uint8, offset=8)\n",
    "        for i in range(images.shape[0]):\n",
    "            if labels[i] == 23:\n",
    "                watermark_images.append(images[i])\n",
    "    elif dataset == 'CIFAR10':\n",
    "        mnist = tf.keras.datasets.mnist\n",
    "        (training_images, training_labels), (_, _) = mnist.load_data()\n",
    "        for i in range(len(training_labels)):\n",
    "            if training_labels[i] == 1:\n",
    "                image = array_to_img(training_images[i].reshape(28, 28, 1))\n",
    "                image = image.convert(mode='RGB')\n",
    "                image = image.resize((32, 32))\n",
    "                image = img_to_array(image)\n",
    "                watermark_images.append(image)\n",
    "    random.shuffle(watermark_images)\n",
    "    watermark_images = np.array(watermark_images)\n",
    "    train_sample_number = int(len(watermark_images) * sample_rate)\n",
    "    train_sample = watermark_images[:train_sample_number]\n",
    "    test_sample = watermark_images[train_sample_number:]\n",
    "    return train_sample, test_sample\n",
    "\n",
    "\n",
    "def watermark(train_images, train_labels, old_label, new_label, sample_rate, dataset: str, wtype='content'):\n",
    "    if wtype == 'unrelated':\n",
    "        train_sample, test_sample = get_unrelated_images(dataset, sample_rate)\n",
    "    else:\n",
    "        watermark_images = []\n",
    "        for i in range(len(train_labels)):\n",
    "            if train_labels[i] == old_label:\n",
    "                watermark_images.append(train_images[i])\n",
    "                \n",
    "        if wtype == 'content':\n",
    "            mark_image = load_img('./mark/apple_black.png', color_mode='grayscale', target_size=(8, 8))\n",
    "            for i in range(len(watermark_images)):\n",
    "                image = array_to_img(watermark_images[i])\n",
    "                image.paste(mark_image, box=(image.size[0] - 8, image.size[1] - 8))\n",
    "                watermark_images[i] = img_to_array(image)\n",
    "        elif wtype == 'noise':\n",
    "            for i in range(len(watermark_images)):\n",
    "                image = random_noise(watermark_images[i] / 255.0, seed=1)\n",
    "                image = image * 255.0\n",
    "                watermark_images[i] = image\n",
    "                \n",
    "        random.shuffle(watermark_images)\n",
    "        watermark_images = np.array(watermark_images)\n",
    "        train_sample_number = int(len(watermark_images) * sample_rate)\n",
    "        train_sample = watermark_images[:train_sample_number]\n",
    "        test_sample = watermark_images[train_sample_number:]\n",
    "\n",
    "    if dataset == 'MNIST':\n",
    "        return train_sample, np.ones(train_sample.shape[0]) * new_label, test_sample, np.ones(\n",
    "            test_sample.shape[0]) * new_label\n",
    "    elif dataset == 'CIFAR10':\n",
    "        return train_sample, np.ones((train_sample.shape[0], 1)) * new_label, test_sample, np.ones((\n",
    "            test_sample.shape[0], 1)) * new_label"
   ]
  },
  {
   "cell_type": "markdown",
   "id": "56b3ec97",
   "metadata": {},
   "source": [
    "## Training resnet v1 on CIFAR10 Dataset with black-box watermarking approach"
   ]
  },
  {
   "cell_type": "code",
   "execution_count": 10,
   "id": "a8837a6d",
   "metadata": {},
   "outputs": [
    {
     "name": "stdout",
     "output_type": "stream",
     "text": [
      "log saved at ./logs\n",
      "Using real-time data augmentation.\n",
      "Learning rate:  0.001\n",
      "Epoch 1/30\n",
      "781/781 [==============================] - 439s 541ms/step - loss: 1.6543 - accuracy: 0.4593 - val_loss: 1.5954 - val_accuracy: 0.5234 - lr: 0.0010\n",
      "Learning rate:  0.001\n",
      "Epoch 2/30\n",
      "781/781 [==============================] - 369s 472ms/step - loss: 1.2588 - accuracy: 0.6073 - val_loss: 1.1821 - val_accuracy: 0.6455 - lr: 0.0010\n",
      "Learning rate:  0.001\n",
      "Epoch 3/30\n",
      "781/781 [==============================] - 375s 480ms/step - loss: 1.0682 - accuracy: 0.6784 - val_loss: 1.2028 - val_accuracy: 0.6398 - lr: 0.0010\n",
      "Learning rate:  0.001\n",
      "Epoch 4/30\n",
      "781/781 [==============================] - 365s 467ms/step - loss: 0.9683 - accuracy: 0.7168 - val_loss: 1.0205 - val_accuracy: 0.7044 - lr: 0.0010\n",
      "Learning rate:  0.001\n",
      "Epoch 5/30\n",
      "781/781 [==============================] - 360s 461ms/step - loss: 0.8869 - accuracy: 0.7444 - val_loss: 1.1460 - val_accuracy: 0.6911 - lr: 0.0010\n",
      "Learning rate:  0.001\n",
      "Epoch 6/30\n",
      "781/781 [==============================] - 350s 448ms/step - loss: 0.8254 - accuracy: 0.7652 - val_loss: 0.9472 - val_accuracy: 0.7375 - lr: 0.0010\n",
      "Learning rate:  0.001\n",
      "Epoch 7/30\n",
      "781/781 [==============================] - 350s 449ms/step - loss: 0.7824 - accuracy: 0.7826 - val_loss: 0.9398 - val_accuracy: 0.7326 - lr: 0.0010\n",
      "Learning rate:  0.001\n",
      "Epoch 8/30\n",
      "781/781 [==============================] - 362s 464ms/step - loss: 0.7440 - accuracy: 0.7983 - val_loss: 0.8310 - val_accuracy: 0.7712 - lr: 0.0010\n",
      "Learning rate:  0.001\n",
      "Epoch 9/30\n",
      "781/781 [==============================] - 354s 453ms/step - loss: 0.7127 - accuracy: 0.8078 - val_loss: 0.9422 - val_accuracy: 0.7395 - lr: 0.0010\n",
      "Learning rate:  0.001\n",
      "Epoch 10/30\n",
      "781/781 [==============================] - 358s 458ms/step - loss: 0.6869 - accuracy: 0.8171 - val_loss: 1.2292 - val_accuracy: 0.6944 - lr: 0.0010\n",
      "Learning rate:  0.001\n",
      "Epoch 11/30\n",
      "781/781 [==============================] - 362s 464ms/step - loss: 0.6679 - accuracy: 0.8254 - val_loss: 1.0017 - val_accuracy: 0.7398 - lr: 0.0010\n",
      "Learning rate:  0.001\n",
      "Epoch 12/30\n",
      "781/781 [==============================] - 350s 448ms/step - loss: 0.6473 - accuracy: 0.8335 - val_loss: 0.9762 - val_accuracy: 0.7362 - lr: 0.0010\n",
      "Learning rate:  0.001\n",
      "Epoch 13/30\n",
      "781/781 [==============================] - 354s 454ms/step - loss: 0.6278 - accuracy: 0.8396 - val_loss: 0.7969 - val_accuracy: 0.7939 - lr: 0.0010\n",
      "Learning rate:  0.001\n",
      "Epoch 14/30\n",
      "781/781 [==============================] - 354s 453ms/step - loss: 0.6091 - accuracy: 0.8481 - val_loss: 0.8365 - val_accuracy: 0.7889 - lr: 0.0010\n",
      "Learning rate:  0.001\n",
      "Epoch 15/30\n",
      "781/781 [==============================] - 356s 456ms/step - loss: 0.5960 - accuracy: 0.8531 - val_loss: 0.9109 - val_accuracy: 0.7756 - lr: 0.0010\n",
      "Learning rate:  0.001\n",
      "Epoch 16/30\n",
      "781/781 [==============================] - 363s 464ms/step - loss: 0.5886 - accuracy: 0.8569 - val_loss: 0.8711 - val_accuracy: 0.7689 - lr: 0.0010\n",
      "Learning rate:  0.001\n",
      "Epoch 17/30\n",
      "781/781 [==============================] - 357s 457ms/step - loss: 0.5753 - accuracy: 0.8623 - val_loss: 0.8288 - val_accuracy: 0.7900 - lr: 0.0010\n",
      "Learning rate:  0.001\n",
      "Epoch 18/30\n",
      "781/781 [==============================] - 353s 452ms/step - loss: 0.5637 - accuracy: 0.8650 - val_loss: 0.8109 - val_accuracy: 0.7943 - lr: 0.0010\n",
      "Learning rate:  0.001\n",
      "Epoch 19/30\n",
      "781/781 [==============================] - 354s 453ms/step - loss: 0.5537 - accuracy: 0.8686 - val_loss: 0.7377 - val_accuracy: 0.8159 - lr: 0.0010\n",
      "Learning rate:  0.001\n",
      "Epoch 20/30\n",
      "781/781 [==============================] - 355s 455ms/step - loss: 0.5486 - accuracy: 0.8713 - val_loss: 0.7842 - val_accuracy: 0.8070 - lr: 0.0010\n",
      "Learning rate:  0.001\n",
      "Epoch 21/30\n",
      "781/781 [==============================] - 359s 459ms/step - loss: 0.5346 - accuracy: 0.8761 - val_loss: 1.0149 - val_accuracy: 0.7579 - lr: 0.0010\n",
      "Learning rate:  0.001\n",
      "Epoch 22/30\n",
      "781/781 [==============================] - 359s 460ms/step - loss: 0.5320 - accuracy: 0.8791 - val_loss: 0.7969 - val_accuracy: 0.8093 - lr: 0.0010\n",
      "Learning rate:  0.001\n",
      "Epoch 23/30\n",
      "781/781 [==============================] - 359s 459ms/step - loss: 0.5247 - accuracy: 0.8805 - val_loss: 0.6908 - val_accuracy: 0.8320 - lr: 0.0010\n",
      "Learning rate:  0.001\n",
      "Epoch 24/30\n",
      "781/781 [==============================] - 363s 464ms/step - loss: 0.5201 - accuracy: 0.8821 - val_loss: 0.7464 - val_accuracy: 0.8172 - lr: 0.0010\n",
      "Learning rate:  0.001\n",
      "Epoch 25/30\n",
      "781/781 [==============================] - 362s 464ms/step - loss: 0.5132 - accuracy: 0.8851 - val_loss: 0.8073 - val_accuracy: 0.8085 - lr: 0.0010\n",
      "Learning rate:  0.001\n",
      "Epoch 26/30\n",
      "781/781 [==============================] - 362s 464ms/step - loss: 0.5083 - accuracy: 0.8869 - val_loss: 0.7121 - val_accuracy: 0.8293 - lr: 0.0010\n",
      "Learning rate:  0.001\n",
      "Epoch 27/30\n",
      "781/781 [==============================] - 361s 462ms/step - loss: 0.4995 - accuracy: 0.8905 - val_loss: 0.8987 - val_accuracy: 0.7972 - lr: 0.0010\n",
      "Learning rate:  0.001\n",
      "Epoch 28/30\n",
      "781/781 [==============================] - 359s 460ms/step - loss: 0.4952 - accuracy: 0.8920 - val_loss: 0.8344 - val_accuracy: 0.8020 - lr: 0.0010\n",
      "Learning rate:  0.001\n",
      "Epoch 29/30\n",
      "781/781 [==============================] - 361s 461ms/step - loss: 0.4968 - accuracy: 0.8936 - val_loss: 0.7968 - val_accuracy: 0.8135 - lr: 0.0010\n",
      "Learning rate:  0.001\n",
      "Epoch 30/30\n",
      "781/781 [==============================] - 362s 463ms/step - loss: 0.4889 - accuracy: 0.8961 - val_loss: 0.7153 - val_accuracy: 0.8365 - lr: 0.0010\n",
      "313/313 [==============================] - 13s 41ms/step - loss: 0.7153 - accuracy: 0.8365\n",
      "Non-Watermarked Model Testing Accuracy:  0.8364999890327454\n",
      "Non-Watermarked Model Testing Loss:  0.7152819633483887\n"
     ]
    }
   ],
   "source": [
    "if __name__ == '__main__':    \n",
    "    dataset = 'CIFAR10'\n",
    "    training_nums = 25000 \n",
    "    batch_size = 64\n",
    "    epochs = 30 \n",
    "    no_augmentation = False\n",
    "    old_label = 1\n",
    "    new_label = 3\n",
    "    log_dir = './logs' \n",
    "    if not os.path.exists(log_dir):\n",
    "        os.makedirs(log_dir)\n",
    "    print('log saved at ' + log_dir)\n",
    "    \n",
    "    \n",
    "    training_images, training_labels, test_images, test_labels = load_data(dataset)\n",
    "\n",
    "    training_labels = tf.keras.utils.to_categorical(training_labels, 10)\n",
    "    test_labels = tf.keras.utils.to_categorical(test_labels, 10)\n",
    "\n",
    "    training_images = training_images / 255.0\n",
    "    test_images = test_images / 255.0\n",
    "    \n",
    "    input_shape = training_images.shape[1:]\n",
    "    model = resnet_v1(input_shape=input_shape, depth=20) \n",
    "    model.summary(print_fn=log)\n",
    "    reduce_lr = tf.keras.callbacks.LearningRateScheduler(lr_schedule)\n",
    "    lr_reducer = tf.keras.callbacks.ReduceLROnPlateau(factor=np.sqrt(0.1),cooldown=0,patience=5,min_lr=0.5e-6)\n",
    "    model.compile(optimizer=tf.keras.optimizers.Adam(),\n",
    "                  loss='categorical_crossentropy',\n",
    "                  metrics=['accuracy'])\n",
    "\n",
    "    if no_augmentation:\n",
    "        print('Not using data augmentation.')\n",
    "        history_nw = model.fit(training_images, training_labels,\n",
    "                            batch_size=batch_size,\n",
    "                            epochs=epochs,\n",
    "                            validation_data=(test_images, test_labels),\n",
    "                            callbacks=[reduce_lr, lr_reducer])\n",
    "    else:\n",
    "        print('Using real-time data augmentation.')\n",
    "        data_gen = ImageDataGenerator(\n",
    "            rotation_range=10,\n",
    "            width_shift_range=0.1,\n",
    "            height_shift_range=0.1\n",
    "        )\n",
    "        history_nw = model.fit(data_gen.flow(training_images, training_labels, batch_size=batch_size),\n",
    "                            epochs=epochs,\n",
    "                            validation_data=(test_images, test_labels),\n",
    "                            callbacks=[reduce_lr, lr_reducer],\n",
    "                            steps_per_epoch=training_images.shape[0] // batch_size)\n",
    "    pd.DataFrame(history_nw.history).to_csv(log_dir + '/log_normal.csv')\n",
    "    \n",
    "    if log_dir is not None:\n",
    "        model.save(log_dir + '/non-watermarked_model.h5')\n",
    "        \n",
    "    loss, TSA = model.evaluate(test_images, test_labels)\n",
    "    print('Non-Watermarked Model Testing Accuracy: ', TSA)\n",
    "    print('Non-Watermarked Model Testing Loss: ', loss)"
   ]
  },
  {
   "cell_type": "code",
   "execution_count": 11,
   "id": "bafad63e",
   "metadata": {},
   "outputs": [
    {
     "name": "stdout",
     "output_type": "stream",
     "text": [
      "log saved at ./logs\n",
      "Using real-time data augmentation.\n",
      "Learning rate:  0.001\n",
      "Epoch 1/30\n",
      "398/398 [==============================] - 199s 477ms/step - loss: 1.7713 - accuracy: 0.4208 - val_loss: 1.6121 - val_accuracy: 0.4733 - lr: 0.0010\n",
      "Learning rate:  0.001\n",
      "Epoch 2/30\n",
      "398/398 [==============================] - 186s 467ms/step - loss: 1.4036 - accuracy: 0.5494 - val_loss: 1.5277 - val_accuracy: 0.5186 - lr: 0.0010\n",
      "Learning rate:  0.001\n",
      "Epoch 3/30\n",
      "398/398 [==============================] - 186s 466ms/step - loss: 1.2391 - accuracy: 0.6133 - val_loss: 1.2371 - val_accuracy: 0.6226 - lr: 0.0010\n",
      "Learning rate:  0.001\n",
      "Epoch 4/30\n",
      "398/398 [==============================] - 182s 457ms/step - loss: 1.1143 - accuracy: 0.6616 - val_loss: 1.4691 - val_accuracy: 0.5696 - lr: 0.0010\n",
      "Learning rate:  0.001\n",
      "Epoch 5/30\n",
      "398/398 [==============================] - 185s 464ms/step - loss: 1.0211 - accuracy: 0.6962 - val_loss: 1.3483 - val_accuracy: 0.5985 - lr: 0.0010\n",
      "Learning rate:  0.001\n",
      "Epoch 6/30\n",
      "398/398 [==============================] - 185s 465ms/step - loss: 0.9679 - accuracy: 0.7171 - val_loss: 1.3180 - val_accuracy: 0.6292 - lr: 0.0010\n",
      "Learning rate:  0.001\n",
      "Epoch 7/30\n",
      "398/398 [==============================] - 183s 459ms/step - loss: 0.9193 - accuracy: 0.7294 - val_loss: 1.1791 - val_accuracy: 0.6627 - lr: 0.0010\n",
      "Learning rate:  0.001\n",
      "Epoch 8/30\n",
      "398/398 [==============================] - 186s 466ms/step - loss: 0.8748 - accuracy: 0.7478 - val_loss: 1.5079 - val_accuracy: 0.6161 - lr: 0.0010\n",
      "Learning rate:  0.001\n",
      "Epoch 9/30\n",
      "398/398 [==============================] - 184s 462ms/step - loss: 0.8433 - accuracy: 0.7646 - val_loss: 0.9690 - val_accuracy: 0.7257 - lr: 0.0010\n",
      "Learning rate:  0.001\n",
      "Epoch 10/30\n",
      "398/398 [==============================] - 184s 463ms/step - loss: 0.8103 - accuracy: 0.7740 - val_loss: 1.1719 - val_accuracy: 0.6678 - lr: 0.0010\n",
      "Learning rate:  0.001\n",
      "Epoch 11/30\n",
      "398/398 [==============================] - 185s 465ms/step - loss: 0.7719 - accuracy: 0.7893 - val_loss: 0.9309 - val_accuracy: 0.7432 - lr: 0.0010\n",
      "Learning rate:  0.001\n",
      "Epoch 12/30\n",
      "398/398 [==============================] - 184s 461ms/step - loss: 0.7458 - accuracy: 0.7988 - val_loss: 1.1978 - val_accuracy: 0.6717 - lr: 0.0010\n",
      "Learning rate:  0.001\n",
      "Epoch 13/30\n",
      "398/398 [==============================] - 187s 470ms/step - loss: 0.7192 - accuracy: 0.8067 - val_loss: 0.9241 - val_accuracy: 0.7417 - lr: 0.0010\n",
      "Learning rate:  0.001\n",
      "Epoch 14/30\n",
      "398/398 [==============================] - 185s 465ms/step - loss: 0.7006 - accuracy: 0.8129 - val_loss: 1.0811 - val_accuracy: 0.7108 - lr: 0.0010\n",
      "Learning rate:  0.001\n",
      "Epoch 15/30\n",
      "398/398 [==============================] - 184s 461ms/step - loss: 0.6787 - accuracy: 0.8194 - val_loss: 0.9711 - val_accuracy: 0.7510 - lr: 0.0010\n",
      "Learning rate:  0.001\n",
      "Epoch 16/30\n",
      "398/398 [==============================] - 186s 467ms/step - loss: 0.6604 - accuracy: 0.8271 - val_loss: 1.1972 - val_accuracy: 0.6994 - lr: 0.0010\n",
      "Learning rate:  0.001\n",
      "Epoch 17/30\n",
      "398/398 [==============================] - 186s 466ms/step - loss: 0.6420 - accuracy: 0.8345 - val_loss: 1.0491 - val_accuracy: 0.7354 - lr: 0.0010\n",
      "Learning rate:  0.001\n",
      "Epoch 18/30\n",
      "398/398 [==============================] - 186s 468ms/step - loss: 0.6194 - accuracy: 0.8422 - val_loss: 1.1134 - val_accuracy: 0.7233 - lr: 0.0010\n",
      "Learning rate:  0.001\n",
      "Epoch 19/30\n",
      "398/398 [==============================] - 186s 467ms/step - loss: 0.6109 - accuracy: 0.8462 - val_loss: 1.2115 - val_accuracy: 0.7051 - lr: 0.0010\n",
      "Learning rate:  0.001\n",
      "Epoch 20/30\n",
      "398/398 [==============================] - 183s 461ms/step - loss: 0.5953 - accuracy: 0.8533 - val_loss: 0.9023 - val_accuracy: 0.7641 - lr: 0.0010\n",
      "Learning rate:  0.001\n",
      "Epoch 21/30\n",
      "398/398 [==============================] - 186s 467ms/step - loss: 0.5823 - accuracy: 0.8578 - val_loss: 0.9357 - val_accuracy: 0.7654 - lr: 0.0010\n",
      "Learning rate:  0.001\n",
      "Epoch 22/30\n",
      "398/398 [==============================] - 186s 468ms/step - loss: 0.5636 - accuracy: 0.8657 - val_loss: 1.0885 - val_accuracy: 0.7389 - lr: 0.0010\n",
      "Learning rate:  0.001\n",
      "Epoch 23/30\n",
      "398/398 [==============================] - 185s 466ms/step - loss: 0.5689 - accuracy: 0.8613 - val_loss: 1.2797 - val_accuracy: 0.7052 - lr: 0.0010\n",
      "Learning rate:  0.001\n",
      "Epoch 24/30\n",
      "398/398 [==============================] - 186s 467ms/step - loss: 0.5428 - accuracy: 0.8707 - val_loss: 1.0169 - val_accuracy: 0.7600 - lr: 0.0010\n",
      "Learning rate:  0.001\n",
      "Epoch 25/30\n",
      "398/398 [==============================] - 185s 465ms/step - loss: 0.5449 - accuracy: 0.8719 - val_loss: 0.9393 - val_accuracy: 0.7757 - lr: 0.0010\n",
      "Learning rate:  0.001\n",
      "Epoch 26/30\n",
      "398/398 [==============================] - 188s 472ms/step - loss: 0.5263 - accuracy: 0.8785 - val_loss: 0.8691 - val_accuracy: 0.7920 - lr: 0.0010\n",
      "Learning rate:  0.001\n",
      "Epoch 27/30\n",
      "398/398 [==============================] - 185s 464ms/step - loss: 0.5205 - accuracy: 0.8797 - val_loss: 0.9104 - val_accuracy: 0.7839 - lr: 0.0010\n",
      "Learning rate:  0.001\n",
      "Epoch 28/30\n",
      "398/398 [==============================] - 185s 464ms/step - loss: 0.5108 - accuracy: 0.8865 - val_loss: 1.1716 - val_accuracy: 0.7301 - lr: 0.0010\n",
      "Learning rate:  0.001\n",
      "Epoch 29/30\n",
      "398/398 [==============================] - 185s 465ms/step - loss: 0.4972 - accuracy: 0.8910 - val_loss: 1.0481 - val_accuracy: 0.7578 - lr: 0.0010\n",
      "Learning rate:  0.001\n",
      "Epoch 30/30\n",
      "398/398 [==============================] - 184s 463ms/step - loss: 0.4972 - accuracy: 0.8926 - val_loss: 1.0117 - val_accuracy: 0.7530 - lr: 0.0010\n",
      "141/141 [==============================] - 6s 41ms/step - loss: 0.1931 - accuracy: 1.0000\n",
      "Watermarked Model Testing Accuracy:  1.0\n",
      "Watermarked Model Testing Loss:  0.19312980771064758\n"
     ]
    }
   ],
   "source": [
    "if __name__ == '__main__':    \n",
    "    wtype = 'content'\n",
    "    dataset = 'CIFAR10'\n",
    "    training_nums = 25000 \n",
    "    batch_size = 64\n",
    "    epochs = 30 \n",
    "    no_augmentation = False\n",
    "    old_label = 1\n",
    "    new_label = 3\n",
    "    log_dir = './logs' \n",
    "    if not os.path.exists(log_dir):\n",
    "        os.makedirs(log_dir)\n",
    "    print('log saved at ' + log_dir)\n",
    "    \n",
    "    \n",
    "    training_images, training_labels, test_images, test_labels = load_data(dataset)\n",
    "    train_sample_images, train_sample_labels, test_sample_images, test_sample_labels = watermark(training_images,\n",
    "                                                                                                 training_labels, old_label, new_label,\n",
    "                                                                                                 0.1, dataset,\n",
    "                                                                                                 wtype=wtype)\n",
    "\n",
    "    training_labels = tf.keras.utils.to_categorical(training_labels, 10)\n",
    "    test_labels = tf.keras.utils.to_categorical(test_labels, 10)\n",
    "    train_sample_labels = tf.keras.utils.to_categorical(train_sample_labels, 10)\n",
    "    test_sample_labels = tf.keras.utils.to_categorical(test_sample_labels, 10)\n",
    "\n",
    "    training_images = training_images / 255.0\n",
    "    test_images = test_images / 255.0\n",
    "    train_sample_images = train_sample_images / 255.0\n",
    "    test_sample_images = test_sample_images / 255.0\n",
    "    training_all_images = np.concatenate((training_images[:training_nums], train_sample_images), axis=0)\n",
    "    training_all_labels = np.concatenate((training_labels[:training_nums], train_sample_labels), axis=0)\n",
    "    \n",
    "    input_shape = training_images.shape[1:]\n",
    "    model = resnet_v1(input_shape=input_shape, depth=20) \n",
    "    model.summary(print_fn=log)\n",
    "    \n",
    "    reduce_lr = tf.keras.callbacks.LearningRateScheduler(lr_schedule)\n",
    "    lr_reducer = tf.keras.callbacks.ReduceLROnPlateau(factor=np.sqrt(0.1),\n",
    "                                                      cooldown=0,\n",
    "                                                      patience=5,\n",
    "                                                      min_lr=0.5e-6)\n",
    "    model.compile(optimizer=tf.keras.optimizers.Adam(),\n",
    "                  loss='categorical_crossentropy',\n",
    "                  metrics=['accuracy'])\n",
    "\n",
    "    if no_augmentation:\n",
    "        print('Not using data augmentation.')\n",
    "        history_w = model.fit(training_all_images, training_all_labels,\n",
    "                            batch_size=batch_size,\n",
    "                            epochs=epochs,\n",
    "                            validation_data=(test_images, test_labels),\n",
    "                            callbacks=[reduce_lr, lr_reducer])\n",
    "    else:\n",
    "        print('Using real-time data augmentation.')\n",
    "        data_gen = ImageDataGenerator(\n",
    "            rotation_range=10,\n",
    "            width_shift_range=0.1,\n",
    "            height_shift_range=0.1\n",
    "        )\n",
    "        history_w = model.fit(data_gen.flow(training_all_images, training_all_labels, batch_size=batch_size),\n",
    "                            epochs=epochs,\n",
    "                            validation_data=(test_images, test_labels),\n",
    "                            callbacks=[reduce_lr, lr_reducer],\n",
    "                            steps_per_epoch=training_all_images.shape[0] // batch_size)\n",
    "\n",
    "    pd.DataFrame(history_w.history).to_csv(log_dir + '/log_WaterMark.csv')\n",
    "    \n",
    "    if log_dir is not None:\n",
    "        model.save(log_dir + '/watermarked_model.h5')\n",
    "        np.savez(log_dir + \"/content_trigger.npz\", test_sample_images=test_sample_images, test_sample_labels=test_sample_labels)\n",
    "        \n",
    "    loss, TSA = model.evaluate(test_sample_images, test_sample_labels)\n",
    "    print('Watermarked Model Testing Accuracy: ', TSA)\n",
    "    print('Watermarked Model Testing Loss: ', loss)"
   ]
  },
  {
   "cell_type": "code",
   "execution_count": 12,
   "id": "057b4ee2",
   "metadata": {},
   "outputs": [],
   "source": [
    "wtype = 'content'\n",
    "dataset = 'CIFAR10'\n",
    "old_label = 1\n",
    "new_label = 3\n",
    "training_images, training_labels, test_images, test_labels = load_data(dataset)\n",
    "train_sample_images, train_sample_labels, test_sample_images, test_sample_labels = watermark(training_images,\n",
    "                                                                                                 training_labels, old_label, new_label,\n",
    "                                                                                                 0.1, dataset,\n",
    "                                                                                                 wtype=wtype)\n",
    "\n",
    "train_sample_labels = tf.keras.utils.to_categorical(train_sample_labels, 10)\n",
    "test_sample_labels = tf.keras.utils.to_categorical(test_sample_labels, 10)\n",
    "train_sample_images = train_sample_images / 255.0\n",
    "test_sample_images = test_sample_images / 255.0\n",
    "\n",
    "model_wm = tf.keras.models.load_model('logs/watermarked_model.h5')\n",
    "\n",
    "model = tf.keras.models.load_model('logs/non-watermarked_model.h5')"
   ]
  },
  {
   "cell_type": "code",
   "execution_count": 13,
   "id": "077a66e8",
   "metadata": {},
   "outputs": [
    {
     "name": "stdout",
     "output_type": "stream",
     "text": [
      "label of selected image:  1.0\n"
     ]
    },
    {
     "data": {
      "image/png": "[encoded data removed]",
      "text/plain": [
       "<Figure size 640x480 with 1 Axes>"
      ]
     },
     "metadata": {},
     "output_type": "display_data"
    }
   ],
   "source": [
    "img = train_sample_images[0]\n",
    "label = train_sample_labels[0]\n",
    "print(\"label of selected image: \",label.max())\n",
    "plt.imshow(img)\n",
    "plt.show()"
   ]
  },
  {
   "cell_type": "code",
   "execution_count": 14,
   "id": "f8d9505d",
   "metadata": {},
   "outputs": [
    {
     "name": "stdout",
     "output_type": "stream",
     "text": [
      "1/1 [==============================] - 1s 1s/step\n",
      "1/1 [==============================] - 1s 559ms/step\n",
      "The models made different predictions.\n",
      "Original Label:  1.0\n",
      "Watermarked Model  predicted class: 3, confidence: 0.9999927282333374\n",
      "Non Watermarked Model predicted class: 1, confidence: 0.9999996423721313\n"
     ]
    }
   ],
   "source": [
    "img = np.expand_dims(img, axis=0)\n",
    "pred_wm = model_wm.predict(img)\n",
    "pred = model.predict(img)\n",
    "\n",
    "predicted_class1 = pred_wm.argmax()\n",
    "predicted_class2 = pred.argmax()\n",
    "\n",
    "if predicted_class1 == predicted_class2:\n",
    "    print(\"The models made the same prediction.\")\n",
    "else:\n",
    "    print(\"The models made different predictions.\")\n",
    "    \n",
    "confidence1 = pred_wm.max()\n",
    "confidence2 = pred.max()\n",
    "print(\"Original Label: \",label.max())\n",
    "print(f\"Watermarked Model  predicted class: {predicted_class1}, confidence: {confidence1}\")\n",
    "print(f\"Non Watermarked Model predicted class: {predicted_class2}, confidence: {confidence2}\")"
   ]
  },
  {
   "cell_type": "markdown",
   "id": "a6f402c8",
   "metadata": {},
   "source": [
    "# Bit Encoding within Neural Network Architecture"
   ]
  },
  {
   "cell_type": "code",
   "execution_count": 3,
   "id": "55748a08",
   "metadata": {},
   "outputs": [],
   "source": [
    "BITS_TO_USE = 16\n",
    "assert BITS_TO_USE <= 23, \"Can't be bigger then 23 bits\"\n",
    "\n",
    "DATA_FOLDER = \"data\"\n",
    "\n",
    "IMAGES_TO_TEST_ON = list(map(str, Path(DATA_FOLDER).glob(\"**/*.jpg\")))\n",
    "assert len(IMAGES_TO_TEST_ON) > 0, \"You'll need some images to test the network performance\""
   ]
  },
  {
   "cell_type": "markdown",
   "id": "62e36fc2",
   "metadata": {},
   "source": [
    "## Load the watermarked model"
   ]
  },
  {
   "cell_type": "code",
   "execution_count": 4,
   "id": "3c95af81",
   "metadata": {},
   "outputs": [],
   "source": [
    "model = tf.keras.models.load_model('logs/watermarked_model.h5')"
   ]
  },
  {
   "cell_type": "markdown",
   "id": "31884d2d",
   "metadata": {},
   "source": [
    "## Data storage capacity of the layers"
   ]
  },
  {
   "cell_type": "code",
   "execution_count": 5,
   "id": "41e1a1e6",
   "metadata": {},
   "outputs": [
    {
     "data": {
      "image/png": "[encoded data removed]",
      "text/plain": [
       "<Figure size 1000x400 with 1 Axes>"
      ]
     },
     "metadata": {},
     "output_type": "display_data"
    }
   ],
   "source": [
    "layers_storage_capacity_mb: Dict[str, int] = {}\n",
    "for l in model.layers:\n",
    "    if l.__class__.__name__ == \"Conv2D\":\n",
    "        nb_params = np.prod(l.get_weights()[0].shape)\n",
    "        capacity_in_bytes = np.floor((nb_params * BITS_TO_USE) / 8).astype(int)\n",
    "        layers_storage_capacity_mb[l.name] = capacity_in_bytes / float(1<<20)\n",
    "fig, ax = plt.subplots(1, 1, figsize=(10, 4))\n",
    "ax.bar(layers_storage_capacity_mb.keys(), layers_storage_capacity_mb.values())\n",
    "ax.tick_params(axis='x', labelrotation = 90)\n",
    "ax.set_xlabel(\"Layer Name\")\n",
    "ax.set_ylabel(\"Megabytes\")\n",
    "ax.set_title(f\"Storage capacity when using {BITS_TO_USE} bits from every float value\");"
   ]
  },
  {
   "cell_type": "markdown",
   "id": "078de9f5",
   "metadata": {},
   "source": [
    "## Inspect statistics for selected layers"
   ]
  },
  {
   "cell_type": "code",
   "execution_count": 6,
   "id": "cdc923c0",
   "metadata": {},
   "outputs": [],
   "source": [
    "layer_names = list(layers_storage_capacity_mb.keys())\n",
    "selected_layers_weights = []\n",
    "for n in layer_names:\n",
    "    v = model.get_layer(n).weights[0].numpy().ravel()\n",
    "    selected_layers_weights.extend(v)\n",
    "selected_layers_weights = np.array(selected_layers_weights)"
   ]
  },
  {
   "cell_type": "markdown",
   "id": "7b2198ac",
   "metadata": {},
   "source": [
    "## Basic statistics"
   ]
  },
  {
   "cell_type": "code",
   "execution_count": 7,
   "id": "e3651fb8",
   "metadata": {},
   "outputs": [
    {
     "name": "stdout",
     "output_type": "stream",
     "text": [
      "Stats for ['conv2d_21', 'conv2d_22', 'conv2d_23', 'conv2d_24', 'conv2d_25', 'conv2d_26', 'conv2d_27', 'conv2d_28', 'conv2d_29', 'conv2d_30', 'conv2d_31', 'conv2d_32', 'conv2d_33', 'conv2d_34', 'conv2d_35', 'conv2d_36', 'conv2d_37', 'conv2d_38', 'conv2d_39', 'conv2d_40', 'conv2d_41']\n",
      "---\n",
      "Min: -0.6726844310760498\n",
      "Abs. Min 5.974288797006011e-08\n",
      "Max: 0.705398440361023\n",
      "Mean: -0.004080171696841717\n",
      "---\n",
      "Nb total values: 270256\n",
      "Nb values < 10e-4: 2734 - 1.0116%\n",
      "Nb values < 10e-3: 27132 - 10.0394%\n",
      "Nb negatives: 141538 - 52.3718%\n",
      "Nb positives: 128718 - 47.6282%\n",
      "---\n",
      "(Maximum) Storage capacity is 0.0 MB for the 21 layers with the 16 bits modification\n",
      "\n"
     ]
    }
   ],
   "source": [
    "nb_values = len(selected_layers_weights)\n",
    "min_value = selected_layers_weights.min()\n",
    "abs_min_value = np.abs(selected_layers_weights).min()\n",
    "max_value = selected_layers_weights.max()\n",
    "mean_value = selected_layers_weights.mean()\n",
    "nb_really_small_values = (abs(selected_layers_weights) < 10e-4).sum()\n",
    "nb_small_values = (abs(selected_layers_weights) < 10e-3).sum()\n",
    "nb_negative_values = (selected_layers_weights < 0).sum()\n",
    "nb_positive_values = (selected_layers_weights > 0).sum()\n",
    "overall_storage_capacity_bytes = nb_values * BITS_TO_USE / 8\n",
    "overall_storage_capacity_mb = overall_storage_capacity_bytes // float(1<<20)\n",
    "print(f\"\"\"Stats for {layer_names}\n",
    "---\n",
    "Min: {min_value}\n",
    "Abs. Min {abs_min_value}\n",
    "Max: {max_value}\n",
    "Mean: {mean_value}\n",
    "---\n",
    "Nb total values: {nb_values}\n",
    "Nb values < 10e-4: {nb_really_small_values} - {nb_really_small_values/nb_values*100:.4f}%\n",
    "Nb values < 10e-3: {nb_small_values} - {nb_small_values/nb_values*100:.4f}%\n",
    "Nb negatives: {nb_negative_values} - {nb_negative_values/nb_values*100:.4f}%\n",
    "Nb positives: {nb_positive_values} - {nb_positive_values/nb_values*100:.4f}%\n",
    "---\n",
    "(Maximum) Storage capacity is {overall_storage_capacity_mb} MB for the {len(layer_names)} layers with the {BITS_TO_USE} bits modification\n",
    "\"\"\")"
   ]
  },
  {
   "cell_type": "markdown",
   "id": "756b2e6c",
   "metadata": {},
   "source": [
    "## Hide a secret in the layer\n",
    "\n",
    "### The secret"
   ]
  },
  {
   "cell_type": "code",
   "execution_count": 21,
   "id": "c7dff87f",
   "metadata": {},
   "outputs": [
    {
     "name": "stdout",
     "output_type": "stream",
     "text": [
      "We need 23 float values to store the info\n",
      "Overall number of values we could use: 270256\n"
     ]
    }
   ],
   "source": [
    "secret_to_hide = \"I am Ram and I would like to hide this message\"\n",
    "secret_bits = str_to_bits(secret_to_hide)\n",
    "nb_vals_needed = math.ceil(len(secret_bits) / BITS_TO_USE)\n",
    "print(f\"We need {nb_vals_needed} float values to store the info\\nOverall number of values we could use: {nb_values}\")"
   ]
  },
  {
   "cell_type": "markdown",
   "id": "2add5c53",
   "metadata": {},
   "source": [
    "### Hide it\n",
    "\n",
    "#### Store the original weights"
   ]
  },
  {
   "cell_type": "code",
   "execution_count": 22,
   "id": "00973e43",
   "metadata": {},
   "outputs": [],
   "source": [
    "original_weights_dict: dict = {}\n",
    "for n in layer_names:\n",
    "    original_weights_dict[n] = deepcopy(model.get_layer(n).weights[0].numpy())"
   ]
  },
  {
   "cell_type": "markdown",
   "id": "02741759",
   "metadata": {},
   "source": [
    "#### Create the modified ones"
   ]
  },
  {
   "cell_type": "code",
   "execution_count": 23,
   "id": "affbf130",
   "metadata": {},
   "outputs": [
    {
     "name": "stdout",
     "output_type": "stream",
     "text": [
      "Layer conv2d_21 is processed, last index modified: 22\n"
     ]
    }
   ],
   "source": [
    "modified_weights_dict = deepcopy(original_weights_dict)\n",
    "last_index_used_in_layer_dict: dict = {}\n",
    "\n",
    "\n",
    "i = 0\n",
    "for n in layer_names:\n",
    "    if i >= nb_vals_needed:\n",
    "        break\n",
    "    w = modified_weights_dict[n]\n",
    "    w_shape = w.shape\n",
    "    w = w.ravel()\n",
    "    nb_params_in_layer: int = np.prod(w.shape)\n",
    "    for j in range(nb_params_in_layer):\n",
    "        _from_index = i * BITS_TO_USE\n",
    "        _to_index = _from_index + BITS_TO_USE\n",
    "        bits_to_hide = secret_bits[_from_index:_to_index]\n",
    "        bits_to_hide = list(map(bool, bits_to_hide))\n",
    "\n",
    "        x = FloatBinary(w[j])\n",
    "        fraction_modified = list(x.fraction)\n",
    "        if len(bits_to_hide) > 0:\n",
    "            fraction_modified[-BITS_TO_USE:] = bits_to_hide\n",
    "\n",
    "        x_modified = x.modify_clone(fraction=tuple(fraction_modified))\n",
    "        w[j] = x_modified.v\n",
    "        i += 1\n",
    "        \n",
    "        if i >= nb_vals_needed:\n",
    "            break\n",
    "    last_index_used_in_layer_dict[n] = j\n",
    "    w = w.reshape(w_shape)\n",
    "    modified_weights_dict[n] = w\n",
    "    print(f\"Layer {n} is processed, last index modified: {j}\")"
   ]
  },
  {
   "cell_type": "markdown",
   "id": "e42a6d42",
   "metadata": {},
   "source": [
    "## Let's test the network and inspect the outputs\n",
    "\n",
    "### Dataset to test on"
   ]
  },
  {
   "cell_type": "code",
   "execution_count": 24,
   "id": "463a2632",
   "metadata": {},
   "outputs": [
    {
     "name": "stdout",
     "output_type": "stream",
     "text": [
      "Number of images will be used for testing: 4\n"
     ]
    }
   ],
   "source": [
    "print(f\"Number of images will be used for testing: {len(IMAGES_TO_TEST_ON)}\")"
   ]
  },
  {
   "cell_type": "code",
   "execution_count": 25,
   "id": "65c81958",
   "metadata": {},
   "outputs": [],
   "source": [
    "batch_size = 8\n",
    "def _read_image_from_path(image_path):\n",
    "    image = tf.io.read_file(image_path)\n",
    "    image = tf.image.decode_image(image, channels=3, dtype=tf.uint8, expand_animations=False)\n",
    "    image = tf.image.resize(image, (32, 32))\n",
    "    return image\n",
    "dataset = tf.data.Dataset.from_tensor_slices(IMAGES_TO_TEST_ON)\n",
    "dataset = dataset.map(_read_image_from_path, num_parallel_calls=tf.data.AUTOTUNE)\n",
    "dataset = dataset.batch(batch_size).prefetch(tf.data.AUTOTUNE)"
   ]
  },
  {
   "cell_type": "markdown",
   "id": "381538a1",
   "metadata": {},
   "source": [
    "## Predictions made by the model\n",
    "\n",
    "### Original weights predictions"
   ]
  },
  {
   "cell_type": "code",
   "execution_count": 26,
   "id": "41146cfe",
   "metadata": {},
   "outputs": [],
   "source": [
    "for n in layer_names:\n",
    "    w = original_weights_dict[n]\n",
    "    model.get_layer(n).set_weights([w, model.get_layer(n).get_weights()[1]])"
   ]
  },
  {
   "cell_type": "code",
   "execution_count": 27,
   "id": "2493f4b6",
   "metadata": {},
   "outputs": [
    {
     "name": "stdout",
     "output_type": "stream",
     "text": [
      "1/1 [==============================] - 1s 854ms/step\n"
     ]
    }
   ],
   "source": [
    "preds_original = model.predict(dataset)"
   ]
  },
  {
   "cell_type": "markdown",
   "id": "6f91a91b",
   "metadata": {},
   "source": [
    "### Modified weights predictions"
   ]
  },
  {
   "cell_type": "code",
   "execution_count": 28,
   "id": "2075d974",
   "metadata": {},
   "outputs": [],
   "source": [
    "for n in layer_names:\n",
    "    w = modified_weights_dict[n]\n",
    "    model.get_layer(n).set_weights([w, model.get_layer(n).get_weights()[1]])"
   ]
  },
  {
   "cell_type": "code",
   "execution_count": 29,
   "id": "8540fbf8",
   "metadata": {},
   "outputs": [
    {
     "name": "stdout",
     "output_type": "stream",
     "text": [
      "1/1 [==============================] - 0s 37ms/step\n"
     ]
    }
   ],
   "source": [
    "preds_modified = model.predict(dataset)"
   ]
  },
  {
   "cell_type": "markdown",
   "id": "f2372871",
   "metadata": {},
   "source": [
    "## Differences in predictions\n",
    "\n",
    "### Raw prediction value comparisons (last layer output)"
   ]
  },
  {
   "cell_type": "code",
   "execution_count": 30,
   "id": "b9a3aafb",
   "metadata": {},
   "outputs": [
    {
     "data": {
      "image/png": "[encoded data removed]",
      "text/plain": [
       "<Figure size 640x480 with 1 Axes>"
      ]
     },
     "metadata": {},
     "output_type": "display_data"
    }
   ],
   "source": [
    "diff_abs = np.abs(preds_original - preds_modified).ravel()\n",
    "plt.hist(diff_abs[diff_abs >= 0]);"
   ]
  },
  {
   "cell_type": "code",
   "execution_count": 31,
   "id": "876ed1c8",
   "metadata": {},
   "outputs": [
    {
     "name": "stdout",
     "output_type": "stream",
     "text": [
      "Min abs difference: 0.0\n",
      "Max abs difference: 1.0286144949771195e-33\n",
      "Number of changed prediction values: 1 / 40 | 2.5000%\n"
     ]
    }
   ],
   "source": [
    "print(f\"Min abs difference: {diff_abs.min()}\")\n",
    "print(f\"Max abs difference: {diff_abs.max()}\")\n",
    "print(f\"Number of changed prediction values: {(diff_abs > 0).sum()} / {len(diff_abs)} | {(diff_abs > 0).sum()/len(diff_abs)*100:.4f}%\")"
   ]
  },
  {
   "cell_type": "markdown",
   "id": "6f2df9b1",
   "metadata": {},
   "source": [
    "### Change in predicted labels"
   ]
  },
  {
   "cell_type": "code",
   "execution_count": 32,
   "id": "5f517016",
   "metadata": {},
   "outputs": [
    {
     "name": "stdout",
     "output_type": "stream",
     "text": [
      "Changed number of predictions: 0 / 4 | 0.0%\n"
     ]
    }
   ],
   "source": [
    "nb_changed_pred_labels = ((np.argmax(preds_original, 1) - np.argmax(preds_modified, 1)) > 0).sum()\n",
    "\n",
    "print(f\"Changed number of predictions: {nb_changed_pred_labels} / {len(IMAGES_TO_TEST_ON)} | {nb_changed_pred_labels / len(IMAGES_TO_TEST_ON)*100}%\")"
   ]
  },
  {
   "cell_type": "markdown",
   "id": "887515b3",
   "metadata": {},
   "source": [
    "### Recover the secret"
   ]
  },
  {
   "cell_type": "code",
   "execution_count": 33,
   "id": "88983579",
   "metadata": {},
   "outputs": [
    {
     "name": "stdout",
     "output_type": "stream",
     "text": [
      "Layer conv2d_21 is processed, bits are extracted\n"
     ]
    }
   ],
   "source": [
    "hidden_data: List[bool] = []\n",
    "for n in layer_names:\n",
    "    if n not in last_index_used_in_layer_dict.keys():\n",
    "        continue\n",
    "    \n",
    "    w = modified_weights_dict[n]\n",
    "    w_shape = w.shape\n",
    "    w = w.ravel()\n",
    "    nb_params_in_layer: int = np.prod(w.shape)\n",
    "    for i in range(last_index_used_in_layer_dict[n]+1):\n",
    "        x = FloatBinary(w[i])\n",
    "        hidden_bits = x.fraction[-BITS_TO_USE:]\n",
    "        hidden_data.extend(hidden_bits)\n",
    "    print(f\"Layer {n} is processed, bits are extracted\")"
   ]
  },
  {
   "cell_type": "code",
   "execution_count": 34,
   "id": "08ec773a",
   "metadata": {},
   "outputs": [
    {
     "name": "stdout",
     "output_type": "stream",
     "text": [
      "--Original string:--\n",
      "'I am Ram and I would like to hide this message...'\n",
      "--Recovered string:--\n",
      "'I am Ram and I would like to hide this message...'\n"
     ]
    }
   ],
   "source": [
    "recovered_message: str = bits_to_str(list(map(int, hidden_data)))\n",
    "chars_to_display = 100\n",
    "print(f\"--Original string:--\\n'{secret_to_hide[:chars_to_display]}...'\")\n",
    "print(f\"--Recovered string:--\\n'{recovered_message[:chars_to_display]}...'\")"
   ]
  },
  {
   "cell_type": "code",
   "execution_count": 35,
   "id": "7d8bf06c",
   "metadata": {},
   "outputs": [
    {
     "name": "stdout",
     "output_type": "stream",
     "text": [
      "Successful secret hiding and recovery! 🥳\n"
     ]
    }
   ],
   "source": [
    "def hash_str(s: str) -> str:\n",
    "    return hashlib.md5(s.encode(\"ascii\")).hexdigest()\n",
    "if hash_str(recovered_message) == hash_str(secret_to_hide):\n",
    "    print(\"Successful secret hiding and recovery! 🥳\")\n",
    "else:\n",
    "    print(\"Recovered message is not the same as the original one 🤨\")"
   ]
  },
  {
   "cell_type": "code",
   "execution_count": null,
   "id": "c8da0696",
   "metadata": {},
   "outputs": [],
   "source": []
  }
 ],
 "metadata": {
  "kernelspec": {
   "display_name": "Python 3 (ipykernel)",
   "language": "python",
   "name": "python3"
  },
  "language_info": {
   "codemirror_mode": {
    "name": "ipython",
    "version": 3
   },
   "file_extension": ".py",
   "mimetype": "text/x-python",
   "name": "python",
   "nbconvert_exporter": "python",
   "pygments_lexer": "ipython3",
   "version": "3.11.3"
  }
 },
 "nbformat": 4,
 "nbformat_minor": 5
}
