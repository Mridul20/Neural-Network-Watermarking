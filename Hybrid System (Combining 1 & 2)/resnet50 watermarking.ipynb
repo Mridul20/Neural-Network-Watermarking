{
 "cells": [
  {
   "cell_type": "markdown",
   "id": "27c7a7e7",
   "metadata": {},
   "source": [
    "# Hybrid Approach for Watermarking Neural Network"
   ]
  },
  {
   "cell_type": "code",
   "execution_count": 8,
   "id": "da486797",
   "metadata": {},
   "outputs": [],
   "source": [
    "import os\n",
    "import tensorflow as tf\n",
    "tf.compat.v1.logging.set_verbosity(tf.compat.v1.logging.ERROR)\n",
    "import numpy as np\n",
    "import pandas as pd\n",
    "import random\n",
    "from tensorflow.keras.preprocessing.image import img_to_array, load_img, array_to_img, ImageDataGenerator\n",
    "import gzip\n",
    "from skimage.util.noise import random_noise\n",
    "from resnet20 import resnet_v1\n",
    "from tensorflow import keras\n",
    "from tensorflow.keras.layers import Dense, Conv2D, BatchNormalization, Activation\n",
    "from tensorflow.keras.layers import AveragePooling2D, Input, Flatten\n",
    "from tensorflow.keras.regularizers import l2\n",
    "from tensorflow.keras.models import Model\n",
    "\n",
    "import math\n",
    "from typing import List, Tuple, Dict\n",
    "from pathlib import Path\n",
    "from copy import deepcopy\n",
    "import hashlib\n",
    "import concurrent.futures\n",
    "\n",
    "import numpy as np\n",
    "import tensorflow as tf\n",
    "import matplotlib.pyplot as plt\n",
    "\n",
    "from stego import FloatBinary, str_to_bits, bits_to_str, dummy_data_generator"
   ]
  },
  {
   "cell_type": "code",
   "execution_count": 9,
   "id": "a11d7752",
   "metadata": {},
   "outputs": [],
   "source": [
    "os.environ[\"CUDA_VISIBLE_DEVICES\"]='0'\n",
    "import cv2\n",
    "gpus = tf.config.experimental.list_physical_devices('GPU')\n",
    "if gpus:\n",
    "    try:\n",
    "        for gpu in gpus:\n",
    "            tf.config.experimental.set_memory_growth(gpu, True)\n",
    "    except RuntimeError as e:\n",
    "        print(e)\n",
    "\n",
    "def log(content):\n",
    "    if log_dir is not None:\n",
    "        log_file = log_dir + '/log.txt'\n",
    "        with open(log_file, 'a') as f:\n",
    "            print(content, file=f)\n",
    "\n",
    "def lr_schedule(epoch):\n",
    "    lr = 1e-3\n",
    "    if epoch > 70:\n",
    "        lr *= 1e-3\n",
    "    if epoch > 60:\n",
    "        lr *= 1e-2\n",
    "    elif epoch > 40:\n",
    "        lr *= 1e-1 \n",
    "    print('Learning rate: ', lr)\n",
    "    return lr\n",
    "\n",
    "\n",
    "def load_data(dataset: str):\n",
    "    if dataset == 'MNIST':\n",
    "        mnist = tf.keras.datasets.mnist\n",
    "        (training_images, training_labels), (test_images, test_labels) = mnist.load_data()\n",
    "        training_images = training_images.reshape(60000, 28, 28, 1)\n",
    "        test_images = test_images.reshape(10000, 28, 28, 1)\n",
    "    elif dataset == 'CIFAR10':\n",
    "        cifar10 = tf.keras.datasets.cifar10\n",
    "        (training_images, training_labels), (test_images, test_labels) = cifar10.load_data()\n",
    "    return training_images, training_labels, test_images, test_labels\n",
    "\n",
    "\n",
    "def get_unrelated_images(dataset: str, sample_rate):\n",
    "    watermark_images = []\n",
    "    if dataset == 'MNIST':\n",
    "        train_images_path = './data/emnist/emnist-letters-train-images-idx3-ubyte.gz'\n",
    "        train_labels_path = './data/emnist/emnist-letters-train-labels-idx1-ubyte.gz'\n",
    "        with gzip.open(train_images_path, 'rb') as imgpath:\n",
    "            images = np.frombuffer(imgpath.read(), np.uint8, offset=16).reshape((-1, 28, 28, 1))\n",
    "        with gzip.open(train_labels_path, 'rb') as lbpath:\n",
    "            labels = np.frombuffer(lbpath.read(), np.uint8, offset=8)\n",
    "        for i in range(images.shape[0]):\n",
    "            if labels[i] == 23:\n",
    "                watermark_images.append(images[i])\n",
    "    elif dataset == 'CIFAR10':\n",
    "        mnist = tf.keras.datasets.mnist\n",
    "        (training_images, training_labels), (_, _) = mnist.load_data()\n",
    "        for i in range(len(training_labels)):\n",
    "            if training_labels[i] == 1:\n",
    "                image = cv2.imread(training_images[i])\n",
    "                image = cv2.resize(image,(75, 75))\n",
    "                image = image.convert(mode='RGB')\n",
    "\n",
    "                image = img_to_array(image)\n",
    "                watermark_images.append(image)\n",
    "    random.shuffle(watermark_images)\n",
    "    watermark_images = np.array(watermark_images)\n",
    "    train_sample_number = int(len(watermark_images) * sample_rate)\n",
    "    train_sample = watermark_images[:train_sample_number]\n",
    "    test_sample = watermark_images[train_sample_number:]\n",
    "    return train_sample, test_sample\n",
    "\n",
    "\n",
    "def watermark(train_images, train_labels, old_label, new_label, sample_rate, dataset: str, wtype='content'):\n",
    "    if wtype == 'unrelated':\n",
    "        train_sample, test_sample = get_unrelated_images(dataset, sample_rate)\n",
    "    else:\n",
    "        watermark_images = []\n",
    "        for i in range(len(train_labels)):\n",
    "            if train_labels[i] == old_label:\n",
    "                watermark_images.append(train_images[i])\n",
    "                \n",
    "        if wtype == 'content':\n",
    "            mark_image = load_img('./mark/apple_black.png', color_mode='grayscale', target_size=(8, 8))\n",
    "            for i in range(len(watermark_images)):\n",
    "                image = array_to_img(watermark_images[i])\n",
    "                image.paste(mark_image, box=(image.size[0] - 8, image.size[1] - 8))\n",
    "                watermark_images[i] = img_to_array(image)\n",
    "        elif wtype == 'noise':\n",
    "            for i in range(len(watermark_images)):\n",
    "                image = random_noise(watermark_images[i] / 255.0, seed=1)\n",
    "                image = image * 255.0\n",
    "                watermark_images[i] = image\n",
    "                \n",
    "        random.shuffle(watermark_images)\n",
    "        watermark_images = np.array(watermark_images)\n",
    "        train_sample_number = int(len(watermark_images) * sample_rate)\n",
    "        train_sample = watermark_images[:train_sample_number]\n",
    "        test_sample = watermark_images[train_sample_number:]\n",
    "\n",
    "    if dataset == 'MNIST':\n",
    "        return train_sample, np.ones(train_sample.shape[0]) * new_label, test_sample, np.ones(\n",
    "            test_sample.shape[0]) * new_label\n",
    "    elif dataset == 'CIFAR10':\n",
    "        return train_sample, np.ones((train_sample.shape[0], 1)) * new_label, test_sample, np.ones((\n",
    "            test_sample.shape[0], 1)) * new_label"
   ]
  },
  {
   "cell_type": "markdown",
   "id": "56b3ec97",
   "metadata": {},
   "source": [
    "## Training resnet v1 on CIFAR10 Dataset with black-box watermarking approach"
   ]
  },
  {
   "cell_type": "code",
   "execution_count": 10,
   "id": "a8837a6d",
   "metadata": {},
   "outputs": [
    {
     "name": "stdout",
     "output_type": "stream",
     "text": [
      "log saved at ./logs\n",
      "(75, 75, 3)\n",
      "Downloading data from https://storage.googleapis.com/tensorflow/keras-applications/inception_v3/inception_v3_weights_tf_dim_ordering_tf_kernels_notop.h5\n",
      "87910968/87910968 [==============================] - 12s 0us/step\n",
      "Using real-time data augmentation.\n",
      "Learning rate:  0.001\n"
     ]
    },
    {
     "ename": "InvalidArgumentError",
     "evalue": "Graph execution error:\n\nDetected at node 'sequential/dense/BiasAdd' defined at (most recent call last):\n    File \"<frozen runpy>\", line 198, in _run_module_as_main\n    File \"<frozen runpy>\", line 88, in _run_code\n    File \"C:\\Users\\mridu\\AppData\\Local\\Programs\\Python\\Python311\\Lib\\site-packages\\ipykernel_launcher.py\", line 17, in <module>\n      app.launch_new_instance()\n    File \"C:\\Users\\mridu\\AppData\\Local\\Programs\\Python\\Python311\\Lib\\site-packages\\traitlets\\config\\application.py\", line 1043, in launch_instance\n      app.start()\n    File \"C:\\Users\\mridu\\AppData\\Local\\Programs\\Python\\Python311\\Lib\\site-packages\\ipykernel\\kernelapp.py\", line 725, in start\n      self.io_loop.start()\n    File \"C:\\Users\\mridu\\AppData\\Local\\Programs\\Python\\Python311\\Lib\\site-packages\\tornado\\platform\\asyncio.py\", line 195, in start\n      self.asyncio_loop.run_forever()\n    File \"C:\\Users\\mridu\\AppData\\Local\\Programs\\Python\\Python311\\Lib\\asyncio\\base_events.py\", line 607, in run_forever\n      self._run_once()\n    File \"C:\\Users\\mridu\\AppData\\Local\\Programs\\Python\\Python311\\Lib\\asyncio\\base_events.py\", line 1922, in _run_once\n      handle._run()\n    File \"C:\\Users\\mridu\\AppData\\Local\\Programs\\Python\\Python311\\Lib\\asyncio\\events.py\", line 80, in _run\n      self._context.run(self._callback, *self._args)\n    File \"C:\\Users\\mridu\\AppData\\Local\\Programs\\Python\\Python311\\Lib\\site-packages\\ipykernel\\kernelbase.py\", line 513, in dispatch_queue\n      await self.process_one()\n    File \"C:\\Users\\mridu\\AppData\\Local\\Programs\\Python\\Python311\\Lib\\site-packages\\ipykernel\\kernelbase.py\", line 502, in process_one\n      await dispatch(*args)\n    File \"C:\\Users\\mridu\\AppData\\Local\\Programs\\Python\\Python311\\Lib\\site-packages\\ipykernel\\kernelbase.py\", line 409, in dispatch_shell\n      await result\n    File \"C:\\Users\\mridu\\AppData\\Local\\Programs\\Python\\Python311\\Lib\\site-packages\\ipykernel\\kernelbase.py\", line 729, in execute_request\n      reply_content = await reply_content\n    File \"C:\\Users\\mridu\\AppData\\Local\\Programs\\Python\\Python311\\Lib\\site-packages\\ipykernel\\ipkernel.py\", line 422, in do_execute\n      res = shell.run_cell(\n    File \"C:\\Users\\mridu\\AppData\\Local\\Programs\\Python\\Python311\\Lib\\site-packages\\ipykernel\\zmqshell.py\", line 540, in run_cell\n      return super().run_cell(*args, **kwargs)\n    File \"C:\\Users\\mridu\\AppData\\Local\\Programs\\Python\\Python311\\Lib\\site-packages\\IPython\\core\\interactiveshell.py\", line 3009, in run_cell\n      result = self._run_cell(\n    File \"C:\\Users\\mridu\\AppData\\Local\\Programs\\Python\\Python311\\Lib\\site-packages\\IPython\\core\\interactiveshell.py\", line 3064, in _run_cell\n      result = runner(coro)\n    File \"C:\\Users\\mridu\\AppData\\Local\\Programs\\Python\\Python311\\Lib\\site-packages\\IPython\\core\\async_helpers.py\", line 129, in _pseudo_sync_runner\n      coro.send(None)\n    File \"C:\\Users\\mridu\\AppData\\Local\\Programs\\Python\\Python311\\Lib\\site-packages\\IPython\\core\\interactiveshell.py\", line 3269, in run_cell_async\n      has_raised = await self.run_ast_nodes(code_ast.body, cell_name,\n    File \"C:\\Users\\mridu\\AppData\\Local\\Programs\\Python\\Python311\\Lib\\site-packages\\IPython\\core\\interactiveshell.py\", line 3448, in run_ast_nodes\n      if await self.run_code(code, result, async_=asy):\n    File \"C:\\Users\\mridu\\AppData\\Local\\Programs\\Python\\Python311\\Lib\\site-packages\\IPython\\core\\interactiveshell.py\", line 3508, in run_code\n      exec(code_obj, self.user_global_ns, self.user_ns)\n    File \"C:\\Users\\mridu\\AppData\\Local\\Temp\\ipykernel_9408\\3628536532.py\", line 55, in <module>\n      history_nw = model.fit(data_gen.flow(training_images, training_labels, batch_size=batch_size),\n    File \"C:\\Users\\mridu\\AppData\\Local\\Programs\\Python\\Python311\\Lib\\site-packages\\keras\\utils\\traceback_utils.py\", line 65, in error_handler\n      return fn(*args, **kwargs)\n    File \"C:\\Users\\mridu\\AppData\\Local\\Programs\\Python\\Python311\\Lib\\site-packages\\keras\\engine\\training.py\", line 1685, in fit\n      tmp_logs = self.train_function(iterator)\n    File \"C:\\Users\\mridu\\AppData\\Local\\Programs\\Python\\Python311\\Lib\\site-packages\\keras\\engine\\training.py\", line 1284, in train_function\n      return step_function(self, iterator)\n    File \"C:\\Users\\mridu\\AppData\\Local\\Programs\\Python\\Python311\\Lib\\site-packages\\keras\\engine\\training.py\", line 1268, in step_function\n      outputs = model.distribute_strategy.run(run_step, args=(data,))\n    File \"C:\\Users\\mridu\\AppData\\Local\\Programs\\Python\\Python311\\Lib\\site-packages\\keras\\engine\\training.py\", line 1249, in run_step\n      outputs = model.train_step(data)\n    File \"C:\\Users\\mridu\\AppData\\Local\\Programs\\Python\\Python311\\Lib\\site-packages\\keras\\engine\\training.py\", line 1050, in train_step\n      y_pred = self(x, training=True)\n    File \"C:\\Users\\mridu\\AppData\\Local\\Programs\\Python\\Python311\\Lib\\site-packages\\keras\\utils\\traceback_utils.py\", line 65, in error_handler\n      return fn(*args, **kwargs)\n    File \"C:\\Users\\mridu\\AppData\\Local\\Programs\\Python\\Python311\\Lib\\site-packages\\keras\\engine\\training.py\", line 558, in __call__\n      return super().__call__(*args, **kwargs)\n    File \"C:\\Users\\mridu\\AppData\\Local\\Programs\\Python\\Python311\\Lib\\site-packages\\keras\\utils\\traceback_utils.py\", line 65, in error_handler\n      return fn(*args, **kwargs)\n    File \"C:\\Users\\mridu\\AppData\\Local\\Programs\\Python\\Python311\\Lib\\site-packages\\keras\\engine\\base_layer.py\", line 1145, in __call__\n      outputs = call_fn(inputs, *args, **kwargs)\n    File \"C:\\Users\\mridu\\AppData\\Local\\Programs\\Python\\Python311\\Lib\\site-packages\\keras\\utils\\traceback_utils.py\", line 96, in error_handler\n      return fn(*args, **kwargs)\n    File \"C:\\Users\\mridu\\AppData\\Local\\Programs\\Python\\Python311\\Lib\\site-packages\\keras\\engine\\sequential.py\", line 412, in call\n      return super().call(inputs, training=training, mask=mask)\n    File \"C:\\Users\\mridu\\AppData\\Local\\Programs\\Python\\Python311\\Lib\\site-packages\\keras\\engine\\functional.py\", line 512, in call\n      return self._run_internal_graph(inputs, training=training, mask=mask)\n    File \"C:\\Users\\mridu\\AppData\\Local\\Programs\\Python\\Python311\\Lib\\site-packages\\keras\\engine\\functional.py\", line 669, in _run_internal_graph\n      outputs = node.layer(*args, **kwargs)\n    File \"C:\\Users\\mridu\\AppData\\Local\\Programs\\Python\\Python311\\Lib\\site-packages\\keras\\utils\\traceback_utils.py\", line 65, in error_handler\n      return fn(*args, **kwargs)\n    File \"C:\\Users\\mridu\\AppData\\Local\\Programs\\Python\\Python311\\Lib\\site-packages\\keras\\engine\\base_layer.py\", line 1145, in __call__\n      outputs = call_fn(inputs, *args, **kwargs)\n    File \"C:\\Users\\mridu\\AppData\\Local\\Programs\\Python\\Python311\\Lib\\site-packages\\keras\\utils\\traceback_utils.py\", line 96, in error_handler\n      return fn(*args, **kwargs)\n    File \"C:\\Users\\mridu\\AppData\\Local\\Programs\\Python\\Python311\\Lib\\site-packages\\keras\\layers\\core\\dense.py\", line 252, in call\n      outputs = tf.nn.bias_add(outputs, self.bias)\nNode: 'sequential/dense/BiasAdd'\nMatrix size-incompatible: In[0]: [64,0], In[1]: [2048,10]\n\t [[{{node sequential/dense/BiasAdd}}]] [Op:__inference_train_function_29908]",
     "output_type": "error",
     "traceback": [
      "\u001b[1;31m---------------------------------------------------------------------------\u001b[0m",
      "\u001b[1;31mInvalidArgumentError\u001b[0m                      Traceback (most recent call last)",
      "Cell \u001b[1;32mIn[10], line 55\u001b[0m\n\u001b[0;32m     49\u001b[0m     \u001b[38;5;28mprint\u001b[39m(\u001b[38;5;124m'\u001b[39m\u001b[38;5;124mUsing real-time data augmentation.\u001b[39m\u001b[38;5;124m'\u001b[39m)\n\u001b[0;32m     50\u001b[0m     data_gen \u001b[38;5;241m=\u001b[39m ImageDataGenerator(\n\u001b[0;32m     51\u001b[0m         rotation_range\u001b[38;5;241m=\u001b[39m\u001b[38;5;241m10\u001b[39m,\n\u001b[0;32m     52\u001b[0m         width_shift_range\u001b[38;5;241m=\u001b[39m\u001b[38;5;241m0.1\u001b[39m,\n\u001b[0;32m     53\u001b[0m         height_shift_range\u001b[38;5;241m=\u001b[39m\u001b[38;5;241m0.1\u001b[39m\n\u001b[0;32m     54\u001b[0m     )\n\u001b[1;32m---> 55\u001b[0m     history_nw \u001b[38;5;241m=\u001b[39m \u001b[43mmodel\u001b[49m\u001b[38;5;241;43m.\u001b[39;49m\u001b[43mfit\u001b[49m\u001b[43m(\u001b[49m\u001b[43mdata_gen\u001b[49m\u001b[38;5;241;43m.\u001b[39;49m\u001b[43mflow\u001b[49m\u001b[43m(\u001b[49m\u001b[43mtraining_images\u001b[49m\u001b[43m,\u001b[49m\u001b[43m \u001b[49m\u001b[43mtraining_labels\u001b[49m\u001b[43m,\u001b[49m\u001b[43m \u001b[49m\u001b[43mbatch_size\u001b[49m\u001b[38;5;241;43m=\u001b[39;49m\u001b[43mbatch_size\u001b[49m\u001b[43m)\u001b[49m\u001b[43m,\u001b[49m\n\u001b[0;32m     56\u001b[0m \u001b[43m                        \u001b[49m\u001b[43mepochs\u001b[49m\u001b[38;5;241;43m=\u001b[39;49m\u001b[43mepochs\u001b[49m\u001b[43m,\u001b[49m\n\u001b[0;32m     57\u001b[0m \u001b[43m                        \u001b[49m\u001b[43mvalidation_data\u001b[49m\u001b[38;5;241;43m=\u001b[39;49m\u001b[43m(\u001b[49m\u001b[43mtest_images\u001b[49m\u001b[43m,\u001b[49m\u001b[43m \u001b[49m\u001b[43mtest_labels\u001b[49m\u001b[43m)\u001b[49m\u001b[43m,\u001b[49m\n\u001b[0;32m     58\u001b[0m \u001b[43m                        \u001b[49m\u001b[43mcallbacks\u001b[49m\u001b[38;5;241;43m=\u001b[39;49m\u001b[43m[\u001b[49m\u001b[43mreduce_lr\u001b[49m\u001b[43m,\u001b[49m\u001b[43m \u001b[49m\u001b[43mlr_reducer\u001b[49m\u001b[43m]\u001b[49m\u001b[43m,\u001b[49m\n\u001b[0;32m     59\u001b[0m \u001b[43m                        \u001b[49m\u001b[43msteps_per_epoch\u001b[49m\u001b[38;5;241;43m=\u001b[39;49m\u001b[43mtraining_images\u001b[49m\u001b[38;5;241;43m.\u001b[39;49m\u001b[43mshape\u001b[49m\u001b[43m[\u001b[49m\u001b[38;5;241;43m0\u001b[39;49m\u001b[43m]\u001b[49m\u001b[43m \u001b[49m\u001b[38;5;241;43m/\u001b[39;49m\u001b[38;5;241;43m/\u001b[39;49m\u001b[43m \u001b[49m\u001b[43mbatch_size\u001b[49m\u001b[43m)\u001b[49m\n\u001b[0;32m     60\u001b[0m pd\u001b[38;5;241m.\u001b[39mDataFrame(history_nw\u001b[38;5;241m.\u001b[39mhistory)\u001b[38;5;241m.\u001b[39mto_csv(log_dir \u001b[38;5;241m+\u001b[39m \u001b[38;5;124m'\u001b[39m\u001b[38;5;124m/log_normal.csv\u001b[39m\u001b[38;5;124m'\u001b[39m)\n\u001b[0;32m     62\u001b[0m \u001b[38;5;28;01mif\u001b[39;00m log_dir \u001b[38;5;129;01mis\u001b[39;00m \u001b[38;5;129;01mnot\u001b[39;00m \u001b[38;5;28;01mNone\u001b[39;00m:\n",
      "File \u001b[1;32m~\\AppData\\Local\\Programs\\Python\\Python311\\Lib\\site-packages\\keras\\utils\\traceback_utils.py:70\u001b[0m, in \u001b[0;36mfilter_traceback.<locals>.error_handler\u001b[1;34m(*args, **kwargs)\u001b[0m\n\u001b[0;32m     67\u001b[0m     filtered_tb \u001b[38;5;241m=\u001b[39m _process_traceback_frames(e\u001b[38;5;241m.\u001b[39m__traceback__)\n\u001b[0;32m     68\u001b[0m     \u001b[38;5;66;03m# To get the full stack trace, call:\u001b[39;00m\n\u001b[0;32m     69\u001b[0m     \u001b[38;5;66;03m# `tf.debugging.disable_traceback_filtering()`\u001b[39;00m\n\u001b[1;32m---> 70\u001b[0m     \u001b[38;5;28;01mraise\u001b[39;00m e\u001b[38;5;241m.\u001b[39mwith_traceback(filtered_tb) \u001b[38;5;28;01mfrom\u001b[39;00m \u001b[38;5;28;01mNone\u001b[39;00m\n\u001b[0;32m     71\u001b[0m \u001b[38;5;28;01mfinally\u001b[39;00m:\n\u001b[0;32m     72\u001b[0m     \u001b[38;5;28;01mdel\u001b[39;00m filtered_tb\n",
      "File \u001b[1;32m~\\AppData\\Local\\Programs\\Python\\Python311\\Lib\\site-packages\\tensorflow\\python\\eager\\execute.py:52\u001b[0m, in \u001b[0;36mquick_execute\u001b[1;34m(op_name, num_outputs, inputs, attrs, ctx, name)\u001b[0m\n\u001b[0;32m     50\u001b[0m \u001b[38;5;28;01mtry\u001b[39;00m:\n\u001b[0;32m     51\u001b[0m   ctx\u001b[38;5;241m.\u001b[39mensure_initialized()\n\u001b[1;32m---> 52\u001b[0m   tensors \u001b[38;5;241m=\u001b[39m pywrap_tfe\u001b[38;5;241m.\u001b[39mTFE_Py_Execute(ctx\u001b[38;5;241m.\u001b[39m_handle, device_name, op_name,\n\u001b[0;32m     53\u001b[0m                                       inputs, attrs, num_outputs)\n\u001b[0;32m     54\u001b[0m \u001b[38;5;28;01mexcept\u001b[39;00m core\u001b[38;5;241m.\u001b[39m_NotOkStatusException \u001b[38;5;28;01mas\u001b[39;00m e:\n\u001b[0;32m     55\u001b[0m   \u001b[38;5;28;01mif\u001b[39;00m name \u001b[38;5;129;01mis\u001b[39;00m \u001b[38;5;129;01mnot\u001b[39;00m \u001b[38;5;28;01mNone\u001b[39;00m:\n",
      "\u001b[1;31mInvalidArgumentError\u001b[0m: Graph execution error:\n\nDetected at node 'sequential/dense/BiasAdd' defined at (most recent call last):\n    File \"<frozen runpy>\", line 198, in _run_module_as_main\n    File \"<frozen runpy>\", line 88, in _run_code\n    File \"C:\\Users\\mridu\\AppData\\Local\\Programs\\Python\\Python311\\Lib\\site-packages\\ipykernel_launcher.py\", line 17, in <module>\n      app.launch_new_instance()\n    File \"C:\\Users\\mridu\\AppData\\Local\\Programs\\Python\\Python311\\Lib\\site-packages\\traitlets\\config\\application.py\", line 1043, in launch_instance\n      app.start()\n    File \"C:\\Users\\mridu\\AppData\\Local\\Programs\\Python\\Python311\\Lib\\site-packages\\ipykernel\\kernelapp.py\", line 725, in start\n      self.io_loop.start()\n    File \"C:\\Users\\mridu\\AppData\\Local\\Programs\\Python\\Python311\\Lib\\site-packages\\tornado\\platform\\asyncio.py\", line 195, in start\n      self.asyncio_loop.run_forever()\n    File \"C:\\Users\\mridu\\AppData\\Local\\Programs\\Python\\Python311\\Lib\\asyncio\\base_events.py\", line 607, in run_forever\n      self._run_once()\n    File \"C:\\Users\\mridu\\AppData\\Local\\Programs\\Python\\Python311\\Lib\\asyncio\\base_events.py\", line 1922, in _run_once\n      handle._run()\n    File \"C:\\Users\\mridu\\AppData\\Local\\Programs\\Python\\Python311\\Lib\\asyncio\\events.py\", line 80, in _run\n      self._context.run(self._callback, *self._args)\n    File \"C:\\Users\\mridu\\AppData\\Local\\Programs\\Python\\Python311\\Lib\\site-packages\\ipykernel\\kernelbase.py\", line 513, in dispatch_queue\n      await self.process_one()\n    File \"C:\\Users\\mridu\\AppData\\Local\\Programs\\Python\\Python311\\Lib\\site-packages\\ipykernel\\kernelbase.py\", line 502, in process_one\n      await dispatch(*args)\n    File \"C:\\Users\\mridu\\AppData\\Local\\Programs\\Python\\Python311\\Lib\\site-packages\\ipykernel\\kernelbase.py\", line 409, in dispatch_shell\n      await result\n    File \"C:\\Users\\mridu\\AppData\\Local\\Programs\\Python\\Python311\\Lib\\site-packages\\ipykernel\\kernelbase.py\", line 729, in execute_request\n      reply_content = await reply_content\n    File \"C:\\Users\\mridu\\AppData\\Local\\Programs\\Python\\Python311\\Lib\\site-packages\\ipykernel\\ipkernel.py\", line 422, in do_execute\n      res = shell.run_cell(\n    File \"C:\\Users\\mridu\\AppData\\Local\\Programs\\Python\\Python311\\Lib\\site-packages\\ipykernel\\zmqshell.py\", line 540, in run_cell\n      return super().run_cell(*args, **kwargs)\n    File \"C:\\Users\\mridu\\AppData\\Local\\Programs\\Python\\Python311\\Lib\\site-packages\\IPython\\core\\interactiveshell.py\", line 3009, in run_cell\n      result = self._run_cell(\n    File \"C:\\Users\\mridu\\AppData\\Local\\Programs\\Python\\Python311\\Lib\\site-packages\\IPython\\core\\interactiveshell.py\", line 3064, in _run_cell\n      result = runner(coro)\n    File \"C:\\Users\\mridu\\AppData\\Local\\Programs\\Python\\Python311\\Lib\\site-packages\\IPython\\core\\async_helpers.py\", line 129, in _pseudo_sync_runner\n      coro.send(None)\n    File \"C:\\Users\\mridu\\AppData\\Local\\Programs\\Python\\Python311\\Lib\\site-packages\\IPython\\core\\interactiveshell.py\", line 3269, in run_cell_async\n      has_raised = await self.run_ast_nodes(code_ast.body, cell_name,\n    File \"C:\\Users\\mridu\\AppData\\Local\\Programs\\Python\\Python311\\Lib\\site-packages\\IPython\\core\\interactiveshell.py\", line 3448, in run_ast_nodes\n      if await self.run_code(code, result, async_=asy):\n    File \"C:\\Users\\mridu\\AppData\\Local\\Programs\\Python\\Python311\\Lib\\site-packages\\IPython\\core\\interactiveshell.py\", line 3508, in run_code\n      exec(code_obj, self.user_global_ns, self.user_ns)\n    File \"C:\\Users\\mridu\\AppData\\Local\\Temp\\ipykernel_9408\\3628536532.py\", line 55, in <module>\n      history_nw = model.fit(data_gen.flow(training_images, training_labels, batch_size=batch_size),\n    File \"C:\\Users\\mridu\\AppData\\Local\\Programs\\Python\\Python311\\Lib\\site-packages\\keras\\utils\\traceback_utils.py\", line 65, in error_handler\n      return fn(*args, **kwargs)\n    File \"C:\\Users\\mridu\\AppData\\Local\\Programs\\Python\\Python311\\Lib\\site-packages\\keras\\engine\\training.py\", line 1685, in fit\n      tmp_logs = self.train_function(iterator)\n    File \"C:\\Users\\mridu\\AppData\\Local\\Programs\\Python\\Python311\\Lib\\site-packages\\keras\\engine\\training.py\", line 1284, in train_function\n      return step_function(self, iterator)\n    File \"C:\\Users\\mridu\\AppData\\Local\\Programs\\Python\\Python311\\Lib\\site-packages\\keras\\engine\\training.py\", line 1268, in step_function\n      outputs = model.distribute_strategy.run(run_step, args=(data,))\n    File \"C:\\Users\\mridu\\AppData\\Local\\Programs\\Python\\Python311\\Lib\\site-packages\\keras\\engine\\training.py\", line 1249, in run_step\n      outputs = model.train_step(data)\n    File \"C:\\Users\\mridu\\AppData\\Local\\Programs\\Python\\Python311\\Lib\\site-packages\\keras\\engine\\training.py\", line 1050, in train_step\n      y_pred = self(x, training=True)\n    File \"C:\\Users\\mridu\\AppData\\Local\\Programs\\Python\\Python311\\Lib\\site-packages\\keras\\utils\\traceback_utils.py\", line 65, in error_handler\n      return fn(*args, **kwargs)\n    File \"C:\\Users\\mridu\\AppData\\Local\\Programs\\Python\\Python311\\Lib\\site-packages\\keras\\engine\\training.py\", line 558, in __call__\n      return super().__call__(*args, **kwargs)\n    File \"C:\\Users\\mridu\\AppData\\Local\\Programs\\Python\\Python311\\Lib\\site-packages\\keras\\utils\\traceback_utils.py\", line 65, in error_handler\n      return fn(*args, **kwargs)\n    File \"C:\\Users\\mridu\\AppData\\Local\\Programs\\Python\\Python311\\Lib\\site-packages\\keras\\engine\\base_layer.py\", line 1145, in __call__\n      outputs = call_fn(inputs, *args, **kwargs)\n    File \"C:\\Users\\mridu\\AppData\\Local\\Programs\\Python\\Python311\\Lib\\site-packages\\keras\\utils\\traceback_utils.py\", line 96, in error_handler\n      return fn(*args, **kwargs)\n    File \"C:\\Users\\mridu\\AppData\\Local\\Programs\\Python\\Python311\\Lib\\site-packages\\keras\\engine\\sequential.py\", line 412, in call\n      return super().call(inputs, training=training, mask=mask)\n    File \"C:\\Users\\mridu\\AppData\\Local\\Programs\\Python\\Python311\\Lib\\site-packages\\keras\\engine\\functional.py\", line 512, in call\n      return self._run_internal_graph(inputs, training=training, mask=mask)\n    File \"C:\\Users\\mridu\\AppData\\Local\\Programs\\Python\\Python311\\Lib\\site-packages\\keras\\engine\\functional.py\", line 669, in _run_internal_graph\n      outputs = node.layer(*args, **kwargs)\n    File \"C:\\Users\\mridu\\AppData\\Local\\Programs\\Python\\Python311\\Lib\\site-packages\\keras\\utils\\traceback_utils.py\", line 65, in error_handler\n      return fn(*args, **kwargs)\n    File \"C:\\Users\\mridu\\AppData\\Local\\Programs\\Python\\Python311\\Lib\\site-packages\\keras\\engine\\base_layer.py\", line 1145, in __call__\n      outputs = call_fn(inputs, *args, **kwargs)\n    File \"C:\\Users\\mridu\\AppData\\Local\\Programs\\Python\\Python311\\Lib\\site-packages\\keras\\utils\\traceback_utils.py\", line 96, in error_handler\n      return fn(*args, **kwargs)\n    File \"C:\\Users\\mridu\\AppData\\Local\\Programs\\Python\\Python311\\Lib\\site-packages\\keras\\layers\\core\\dense.py\", line 252, in call\n      outputs = tf.nn.bias_add(outputs, self.bias)\nNode: 'sequential/dense/BiasAdd'\nMatrix size-incompatible: In[0]: [64,0], In[1]: [2048,10]\n\t [[{{node sequential/dense/BiasAdd}}]] [Op:__inference_train_function_29908]"
     ]
    }
   ],
   "source": [
    "if __name__ == '__main__':    \n",
    "    dataset = 'CIFAR10'\n",
    "    training_nums = 25000 \n",
    "    batch_size = 64\n",
    "    epochs = 1 \n",
    "    no_augmentation = False\n",
    "    old_label = 1\n",
    "    new_label = 3\n",
    "    log_dir = './logs' \n",
    "    if not os.path.exists(log_dir):\n",
    "        os.makedirs(log_dir)\n",
    "    print('log saved at ' + log_dir)\n",
    "    \n",
    "    \n",
    "    training_images, training_labels, test_images, test_labels = load_data(dataset)\n",
    "\n",
    "    training_labels = tf.keras.utils.to_categorical(training_labels, 10)\n",
    "    test_labels = tf.keras.utils.to_categorical(test_labels, 10)\n",
    "\n",
    "    training_images = training_images / 255.0\n",
    "    test_images = test_images / 255.0\n",
    "    \n",
    "    input_shape = training_images.shape[1:]\n",
    "    input_shape=(75,75,3)\n",
    "    print(input_shape)\n",
    "    res_model = tf.keras.applications.inception_v3.InceptionV3(\n",
    "            input_shape=input_shape,\n",
    "            include_top=False,\n",
    "        )\n",
    "    model = tf.keras.models.Sequential()\n",
    "    model.add(res_model)\n",
    "    model.add(tf.keras.layers.Flatten())\n",
    "    model.add(tf.keras.layers.Dense(10, activation='softmax'))\n",
    "    model.summary(print_fn=log)\n",
    "    reduce_lr = tf.keras.callbacks.LearningRateScheduler(lr_schedule)\n",
    "    lr_reducer = tf.keras.callbacks.ReduceLROnPlateau(factor=np.sqrt(0.1),cooldown=0,patience=5,min_lr=0.5e-6)\n",
    "    model.compile(optimizer=tf.keras.optimizers.Adam(),\n",
    "                  loss='categorical_crossentropy',\n",
    "                  metrics=['accuracy'])\n",
    "\n",
    "    if no_augmentation:\n",
    "        print('Not using data augmentation.')\n",
    "        history_nw = model.fit(training_images, training_labels,\n",
    "                            batch_size=batch_size,\n",
    "                            epochs=epochs,\n",
    "                            validation_data=(test_images, test_labels),\n",
    "                            callbacks=[reduce_lr, lr_reducer])\n",
    "    else:\n",
    "        print('Using real-time data augmentation.')\n",
    "        data_gen = ImageDataGenerator(\n",
    "            rotation_range=10,\n",
    "            width_shift_range=0.1,\n",
    "            height_shift_range=0.1\n",
    "        )\n",
    "        history_nw = model.fit(data_gen.flow(training_images, training_labels, batch_size=batch_size),\n",
    "                            epochs=epochs,\n",
    "                            validation_data=(test_images, test_labels),\n",
    "                            callbacks=[reduce_lr, lr_reducer],\n",
    "                            steps_per_epoch=training_images.shape[0] // batch_size)\n",
    "    pd.DataFrame(history_nw.history).to_csv(log_dir + '/log_normal.csv')\n",
    "    \n",
    "    if log_dir is not None:\n",
    "        model.save(log_dir + '/non-watermarked_model.h5')\n",
    "        \n",
    "    loss, TSA = model.evaluate(test_images, test_labels)\n",
    "    print('Non-Watermarked Model Testing Accuracy: ', TSA)\n",
    "    print('Non-Watermarked Model Testing Loss: ', loss)"
   ]
  },
  {
   "cell_type": "code",
   "execution_count": 7,
   "id": "bafad63e",
   "metadata": {},
   "outputs": [
    {
     "name": "stdout",
     "output_type": "stream",
     "text": [
      "log saved at ./logs\n",
      "(32, 32, 3)\n"
     ]
    },
    {
     "ename": "ValueError",
     "evalue": "Input size must be at least 75x75; Received: input_shape=(32, 32, 3)",
     "output_type": "error",
     "traceback": [
      "\u001b[1;31m---------------------------------------------------------------------------\u001b[0m",
      "\u001b[1;31mValueError\u001b[0m                                Traceback (most recent call last)",
      "Cell \u001b[1;32mIn[7], line 36\u001b[0m\n\u001b[0;32m     34\u001b[0m input_shape \u001b[38;5;241m=\u001b[39m train_sample_images\u001b[38;5;241m.\u001b[39mshape[\u001b[38;5;241m1\u001b[39m:]\n\u001b[0;32m     35\u001b[0m \u001b[38;5;28mprint\u001b[39m(input_shape)\n\u001b[1;32m---> 36\u001b[0m res_model \u001b[38;5;241m=\u001b[39m \u001b[43mtf\u001b[49m\u001b[38;5;241;43m.\u001b[39;49m\u001b[43mkeras\u001b[49m\u001b[38;5;241;43m.\u001b[39;49m\u001b[43mapplications\u001b[49m\u001b[38;5;241;43m.\u001b[39;49m\u001b[43minception_v3\u001b[49m\u001b[38;5;241;43m.\u001b[39;49m\u001b[43mInceptionV3\u001b[49m\u001b[43m(\u001b[49m\n\u001b[0;32m     37\u001b[0m \u001b[43m        \u001b[49m\u001b[43minput_shape\u001b[49m\u001b[38;5;241;43m=\u001b[39;49m\u001b[43minput_shape\u001b[49m\u001b[43m,\u001b[49m\n\u001b[0;32m     38\u001b[0m \u001b[43m        \u001b[49m\u001b[43minclude_top\u001b[49m\u001b[38;5;241;43m=\u001b[39;49m\u001b[38;5;28;43;01mFalse\u001b[39;49;00m\u001b[43m,\u001b[49m\n\u001b[0;32m     39\u001b[0m \u001b[43m        \u001b[49m\u001b[43mweights\u001b[49m\u001b[38;5;241;43m=\u001b[39;49m\u001b[38;5;124;43m\"\u001b[39;49m\u001b[38;5;124;43mimagenet\u001b[39;49m\u001b[38;5;124;43m\"\u001b[39;49m\n\u001b[0;32m     40\u001b[0m \u001b[43m    \u001b[49m\u001b[43m)\u001b[49m\n\u001b[0;32m     41\u001b[0m model \u001b[38;5;241m=\u001b[39m tf\u001b[38;5;241m.\u001b[39mkeras\u001b[38;5;241m.\u001b[39mmodels\u001b[38;5;241m.\u001b[39mSequential()\n\u001b[0;32m     42\u001b[0m model\u001b[38;5;241m.\u001b[39madd(res_model)\n",
      "File \u001b[1;32m~\\AppData\\Local\\Programs\\Python\\Python311\\Lib\\site-packages\\keras\\applications\\inception_v3.py:138\u001b[0m, in \u001b[0;36mInceptionV3\u001b[1;34m(include_top, weights, input_tensor, input_shape, pooling, classes, classifier_activation)\u001b[0m\n\u001b[0;32m    131\u001b[0m     \u001b[38;5;28;01mraise\u001b[39;00m \u001b[38;5;167;01mValueError\u001b[39;00m(\n\u001b[0;32m    132\u001b[0m         \u001b[38;5;124m'\u001b[39m\u001b[38;5;124mIf using `weights` as `\u001b[39m\u001b[38;5;124m\"\u001b[39m\u001b[38;5;124mimagenet\u001b[39m\u001b[38;5;124m\"\u001b[39m\u001b[38;5;124m` with `include_top` \u001b[39m\u001b[38;5;124m'\u001b[39m\n\u001b[0;32m    133\u001b[0m         \u001b[38;5;124m\"\u001b[39m\u001b[38;5;124mas true, `classes` should be 1000; \u001b[39m\u001b[38;5;124m\"\u001b[39m\n\u001b[0;32m    134\u001b[0m         \u001b[38;5;124mf\u001b[39m\u001b[38;5;124m\"\u001b[39m\u001b[38;5;124mReceived classes=\u001b[39m\u001b[38;5;132;01m{\u001b[39;00mclasses\u001b[38;5;132;01m}\u001b[39;00m\u001b[38;5;124m\"\u001b[39m\n\u001b[0;32m    135\u001b[0m     )\n\u001b[0;32m    137\u001b[0m \u001b[38;5;66;03m# Determine proper input shape\u001b[39;00m\n\u001b[1;32m--> 138\u001b[0m input_shape \u001b[38;5;241m=\u001b[39m \u001b[43mimagenet_utils\u001b[49m\u001b[38;5;241;43m.\u001b[39;49m\u001b[43mobtain_input_shape\u001b[49m\u001b[43m(\u001b[49m\n\u001b[0;32m    139\u001b[0m \u001b[43m    \u001b[49m\u001b[43minput_shape\u001b[49m\u001b[43m,\u001b[49m\n\u001b[0;32m    140\u001b[0m \u001b[43m    \u001b[49m\u001b[43mdefault_size\u001b[49m\u001b[38;5;241;43m=\u001b[39;49m\u001b[38;5;241;43m299\u001b[39;49m\u001b[43m,\u001b[49m\n\u001b[0;32m    141\u001b[0m \u001b[43m    \u001b[49m\u001b[43mmin_size\u001b[49m\u001b[38;5;241;43m=\u001b[39;49m\u001b[38;5;241;43m75\u001b[39;49m\u001b[43m,\u001b[49m\n\u001b[0;32m    142\u001b[0m \u001b[43m    \u001b[49m\u001b[43mdata_format\u001b[49m\u001b[38;5;241;43m=\u001b[39;49m\u001b[43mbackend\u001b[49m\u001b[38;5;241;43m.\u001b[39;49m\u001b[43mimage_data_format\u001b[49m\u001b[43m(\u001b[49m\u001b[43m)\u001b[49m\u001b[43m,\u001b[49m\n\u001b[0;32m    143\u001b[0m \u001b[43m    \u001b[49m\u001b[43mrequire_flatten\u001b[49m\u001b[38;5;241;43m=\u001b[39;49m\u001b[43minclude_top\u001b[49m\u001b[43m,\u001b[49m\n\u001b[0;32m    144\u001b[0m \u001b[43m    \u001b[49m\u001b[43mweights\u001b[49m\u001b[38;5;241;43m=\u001b[39;49m\u001b[43mweights\u001b[49m\u001b[43m,\u001b[49m\n\u001b[0;32m    145\u001b[0m \u001b[43m\u001b[49m\u001b[43m)\u001b[49m\n\u001b[0;32m    147\u001b[0m \u001b[38;5;28;01mif\u001b[39;00m input_tensor \u001b[38;5;129;01mis\u001b[39;00m \u001b[38;5;28;01mNone\u001b[39;00m:\n\u001b[0;32m    148\u001b[0m     img_input \u001b[38;5;241m=\u001b[39m layers\u001b[38;5;241m.\u001b[39mInput(shape\u001b[38;5;241m=\u001b[39minput_shape)\n",
      "File \u001b[1;32m~\\AppData\\Local\\Programs\\Python\\Python311\\Lib\\site-packages\\keras\\applications\\imagenet_utils.py:408\u001b[0m, in \u001b[0;36mobtain_input_shape\u001b[1;34m(input_shape, default_size, min_size, data_format, require_flatten, weights)\u001b[0m\n\u001b[0;32m    401\u001b[0m                 \u001b[38;5;28;01mraise\u001b[39;00m \u001b[38;5;167;01mValueError\u001b[39;00m(\n\u001b[0;32m    402\u001b[0m                     \u001b[38;5;124m\"\u001b[39m\u001b[38;5;124mThe input must have 3 channels; Received \u001b[39m\u001b[38;5;124m\"\u001b[39m\n\u001b[0;32m    403\u001b[0m                     \u001b[38;5;124mf\u001b[39m\u001b[38;5;124m\"\u001b[39m\u001b[38;5;124m`input_shape=\u001b[39m\u001b[38;5;132;01m{\u001b[39;00minput_shape\u001b[38;5;132;01m}\u001b[39;00m\u001b[38;5;124m`\u001b[39m\u001b[38;5;124m\"\u001b[39m\n\u001b[0;32m    404\u001b[0m                 )\n\u001b[0;32m    405\u001b[0m             \u001b[38;5;28;01mif\u001b[39;00m (\n\u001b[0;32m    406\u001b[0m                 input_shape[\u001b[38;5;241m0\u001b[39m] \u001b[38;5;129;01mis\u001b[39;00m \u001b[38;5;129;01mnot\u001b[39;00m \u001b[38;5;28;01mNone\u001b[39;00m \u001b[38;5;129;01mand\u001b[39;00m input_shape[\u001b[38;5;241m0\u001b[39m] \u001b[38;5;241m<\u001b[39m min_size\n\u001b[0;32m    407\u001b[0m             ) \u001b[38;5;129;01mor\u001b[39;00m (input_shape[\u001b[38;5;241m1\u001b[39m] \u001b[38;5;129;01mis\u001b[39;00m \u001b[38;5;129;01mnot\u001b[39;00m \u001b[38;5;28;01mNone\u001b[39;00m \u001b[38;5;129;01mand\u001b[39;00m input_shape[\u001b[38;5;241m1\u001b[39m] \u001b[38;5;241m<\u001b[39m min_size):\n\u001b[1;32m--> 408\u001b[0m                 \u001b[38;5;28;01mraise\u001b[39;00m \u001b[38;5;167;01mValueError\u001b[39;00m(\n\u001b[0;32m    409\u001b[0m                     \u001b[38;5;124m\"\u001b[39m\u001b[38;5;124mInput size must be at least \u001b[39m\u001b[38;5;124m\"\u001b[39m\n\u001b[0;32m    410\u001b[0m                     \u001b[38;5;124mf\u001b[39m\u001b[38;5;124m\"\u001b[39m\u001b[38;5;132;01m{\u001b[39;00mmin_size\u001b[38;5;132;01m}\u001b[39;00m\u001b[38;5;124mx\u001b[39m\u001b[38;5;132;01m{\u001b[39;00mmin_size\u001b[38;5;132;01m}\u001b[39;00m\u001b[38;5;124m; Received: \u001b[39m\u001b[38;5;124m\"\u001b[39m\n\u001b[0;32m    411\u001b[0m                     \u001b[38;5;124mf\u001b[39m\u001b[38;5;124m\"\u001b[39m\u001b[38;5;124minput_shape=\u001b[39m\u001b[38;5;132;01m{\u001b[39;00minput_shape\u001b[38;5;132;01m}\u001b[39;00m\u001b[38;5;124m\"\u001b[39m\n\u001b[0;32m    412\u001b[0m                 )\n\u001b[0;32m    413\u001b[0m \u001b[38;5;28;01melse\u001b[39;00m:\n\u001b[0;32m    414\u001b[0m     \u001b[38;5;28;01mif\u001b[39;00m require_flatten:\n",
      "\u001b[1;31mValueError\u001b[0m: Input size must be at least 75x75; Received: input_shape=(32, 32, 3)"
     ]
    }
   ],
   "source": [
    "if __name__ == '__main__':    \n",
    "    wtype = 'content'\n",
    "    dataset = 'CIFAR10'\n",
    "    training_nums = 25000 \n",
    "    batch_size = 64\n",
    "    epochs = 1\n",
    "    no_augmentation = False\n",
    "    old_label = 1\n",
    "    new_label = 3\n",
    "    log_dir = './logs' \n",
    "    if not os.path.exists(log_dir):\n",
    "        os.makedirs(log_dir)\n",
    "    print('log saved at ' + log_dir)\n",
    "    \n",
    "    \n",
    "    training_images, training_labels, test_images, test_labels = load_data(dataset)\n",
    "    train_sample_images, train_sample_labels, test_sample_images, test_sample_labels = watermark(training_images,\n",
    "                                                                                                 training_labels, old_label, new_label,\n",
    "                                                                                                 0.1, dataset,\n",
    "                                                                                                 wtype=wtype)\n",
    "\n",
    "    training_labels = tf.keras.utils.to_categorical(training_labels, 10)\n",
    "    test_labels = tf.keras.utils.to_categorical(test_labels, 10)\n",
    "    train_sample_labels = tf.keras.utils.to_categorical(train_sample_labels, 10)\n",
    "    test_sample_labels = tf.keras.utils.to_categorical(test_sample_labels, 10)\n",
    "\n",
    "    training_images = training_images / 255.0\n",
    "    test_images = test_images / 255.0\n",
    "    train_sample_images = train_sample_images / 255.0\n",
    "    test_sample_images = test_sample_images / 255.0\n",
    "    training_all_images = np.concatenate((training_images[:training_nums], train_sample_images), axis=0)\n",
    "    training_all_labels = np.concatenate((training_labels[:training_nums], train_sample_labels), axis=0)\n",
    "    \n",
    "    input_shape = train_sample_images.shape[1:]\n",
    "    input_shape=(75,75,3)\n",
    "    print(input_shape)\n",
    "    res_model = tf.keras.applications.inception_v3.InceptionV3(\n",
    "            input_shape=input_shape,\n",
    "            include_top=False,\n",
    "            weights=\"imagenet\"\n",
    "        )\n",
    "    model = tf.keras.models.Sequential()\n",
    "    model.add(res_model)\n",
    "    model.add(tf.keras.layers.Flatten())\n",
    "    model.add(tf.keras.layers.Dense(10, activation='softmax'))\n",
    "\n",
    "    model.summary(print_fn=log)\n",
    "    \n",
    "    reduce_lr = tf.keras.callbacks.LearningRateScheduler(lr_schedule)\n",
    "    lr_reducer = tf.keras.callbacks.ReduceLROnPlateau(factor=np.sqrt(0.1),\n",
    "                                                      cooldown=0,\n",
    "                                                      patience=5,\n",
    "                                                      min_lr=0.5e-6)\n",
    "    model.compile(optimizer=tf.keras.optimizers.Adam(),\n",
    "                  loss='categorical_crossentropy',\n",
    "                  metrics=['accuracy'])\n",
    "\n",
    "    if no_augmentation:\n",
    "        print('Not using data augmentation.')\n",
    "        history_w = model.fit(training_all_images, training_all_labels,\n",
    "                            batch_size=batch_size,\n",
    "                            epochs=epochs,\n",
    "                            validation_data=(test_images, test_labels),\n",
    "                            callbacks=[reduce_lr, lr_reducer])\n",
    "    else:\n",
    "        print('Using real-time data augmentation.')\n",
    "        data_gen = ImageDataGenerator(\n",
    "            rotation_range=10,\n",
    "            width_shift_range=0.1,\n",
    "            height_shift_range=0.1\n",
    "        )\n",
    "        history_w = model.fit(data_gen.flow(training_all_images, training_all_labels, batch_size=batch_size),\n",
    "                            epochs=epochs,\n",
    "                            validation_data=(test_images, test_labels),\n",
    "                            callbacks=[reduce_lr, lr_reducer],\n",
    "                            steps_per_epoch=training_all_images.shape[0] // batch_size)\n",
    "\n",
    "    pd.DataFrame(history_w.history).to_csv(log_dir + '/log_WaterMark.csv')\n",
    "    \n",
    "    if log_dir is not None:\n",
    "        model.save(log_dir + '/watermarked_model.h5')\n",
    "        np.savez(log_dir + \"/content_trigger.npz\", test_sample_images=test_sample_images, test_sample_labels=test_sample_labels)\n",
    "        \n",
    "    loss, TSA = model.evaluate(test_sample_images, test_sample_labels)\n",
    "    print('Watermarked Model Testing Accuracy: ', TSA)\n",
    "    print('Watermarked Model Testing Loss: ', loss)"
   ]
  },
  {
   "cell_type": "code",
   "execution_count": null,
   "id": "057b4ee2",
   "metadata": {},
   "outputs": [],
   "source": [
    "wtype = 'content'\n",
    "dataset = 'CIFAR10'\n",
    "old_label = 1\n",
    "new_label = 3\n",
    "training_images, training_labels, test_images, test_labels = load_data(dataset)\n",
    "train_sample_images, train_sample_labels, test_sample_images, test_sample_labels = watermark(training_images,\n",
    "                                                                                                 training_labels, old_label, new_label,\n",
    "                                                                                                 0.1, dataset,\n",
    "                                                                                                 wtype=wtype)\n",
    "\n",
    "train_sample_labels = tf.keras.utils.to_categorical(train_sample_labels, 10)\n",
    "test_sample_labels = tf.keras.utils.to_categorical(test_sample_labels, 10)\n",
    "train_sample_images = train_sample_images / 255.0\n",
    "test_sample_images = test_sample_images / 255.0\n",
    "\n",
    "model_wm = tf.keras.models.load_model('logs/watermarked_model.h5')\n",
    "\n",
    "model = tf.keras.models.load_model('logs/non-watermarked_model.h5')"
   ]
  },
  {
   "cell_type": "code",
   "execution_count": 11,
   "id": "077a66e8",
   "metadata": {},
   "outputs": [
    {
     "ename": "NameError",
     "evalue": "name 'train_sample_images' is not defined",
     "output_type": "error",
     "traceback": [
      "\u001b[1;31m---------------------------------------------------------------------------\u001b[0m",
      "\u001b[1;31mNameError\u001b[0m                                 Traceback (most recent call last)",
      "Cell \u001b[1;32mIn[11], line 1\u001b[0m\n\u001b[1;32m----> 1\u001b[0m img \u001b[38;5;241m=\u001b[39m \u001b[43mtrain_sample_images\u001b[49m[\u001b[38;5;241m0\u001b[39m]\n\u001b[0;32m      2\u001b[0m label \u001b[38;5;241m=\u001b[39m train_sample_labels[\u001b[38;5;241m0\u001b[39m]\n\u001b[0;32m      3\u001b[0m \u001b[38;5;28mprint\u001b[39m(\u001b[38;5;124m\"\u001b[39m\u001b[38;5;124mlabel of selected image: \u001b[39m\u001b[38;5;124m\"\u001b[39m,label\u001b[38;5;241m.\u001b[39mmax())\n",
      "\u001b[1;31mNameError\u001b[0m: name 'train_sample_images' is not defined"
     ]
    }
   ],
   "source": [
    "img = train_sample_images[0]\n",
    "label = train_sample_labels[0]\n",
    "print(\"label of selected image: \",label.max())\n",
    "plt.imshow(img)\n",
    "plt.show()"
   ]
  },
  {
   "cell_type": "code",
   "execution_count": null,
   "id": "f8d9505d",
   "metadata": {},
   "outputs": [],
   "source": [
    "img = np.expand_dims(img, axis=0)\n",
    "pred_wm = model_wm.predict(img)\n",
    "pred = model.predict(img)\n",
    "\n",
    "predicted_class1 = pred_wm.argmax()\n",
    "predicted_class2 = pred.argmax()\n",
    "\n",
    "if predicted_class1 == predicted_class2:\n",
    "    print(\"The models made the same prediction.\")\n",
    "else:\n",
    "    print(\"The models made different predictions.\")\n",
    "    \n",
    "confidence1 = pred_wm.max()\n",
    "confidence2 = pred.max()\n",
    "print(\"Original Label: \",label.max())\n",
    "print(f\"Watermarked Model  predicted class: {predicted_class1}, confidence: {confidence1}\")\n",
    "print(f\"Non Watermarked Model predicted class: {predicted_class2}, confidence: {confidence2}\")"
   ]
  },
  {
   "cell_type": "markdown",
   "id": "a6f402c8",
   "metadata": {},
   "source": [
    "# Bit Encoding within Neural Network Architecture"
   ]
  },
  {
   "cell_type": "code",
   "execution_count": null,
   "id": "55748a08",
   "metadata": {},
   "outputs": [],
   "source": [
    "BITS_TO_USE = 16\n",
    "assert BITS_TO_USE <= 23, \"Can't be bigger then 23 bits\"\n",
    "\n",
    "DATA_FOLDER = \"data\"\n",
    "\n",
    "IMAGES_TO_TEST_ON = list(map(str, Path(DATA_FOLDER).glob(\"**/*.jpg\")))\n",
    "assert len(IMAGES_TO_TEST_ON) > 0, \"You'll need some images to test the network performance\""
   ]
  },
  {
   "cell_type": "markdown",
   "id": "62e36fc2",
   "metadata": {},
   "source": [
    "## Load the watermarked model"
   ]
  },
  {
   "cell_type": "code",
   "execution_count": null,
   "id": "3c95af81",
   "metadata": {},
   "outputs": [],
   "source": [
    "model = tf.keras.models.load_model('logs/watermarked_model.h5')"
   ]
  },
  {
   "cell_type": "markdown",
   "id": "31884d2d",
   "metadata": {},
   "source": [
    "## Data storage capacity of the layers"
   ]
  },
  {
   "cell_type": "code",
   "execution_count": null,
   "id": "41e1a1e6",
   "metadata": {},
   "outputs": [],
   "source": [
    "layers_storage_capacity_mb: Dict[str, int] = {}\n",
    "for l in model.layers:\n",
    "    if l.__class__.__name__ == \"Conv2D\":\n",
    "        nb_params = np.prod(l.get_weights()[0].shape)\n",
    "        capacity_in_bytes = np.floor((nb_params * BITS_TO_USE) / 8).astype(int)\n",
    "        layers_storage_capacity_mb[l.name] = capacity_in_bytes / float(1<<20)\n",
    "fig, ax = plt.subplots(1, 1, figsize=(10, 4))\n",
    "ax.bar(layers_storage_capacity_mb.keys(), layers_storage_capacity_mb.values())\n",
    "ax.tick_params(axis='x', labelrotation = 90)\n",
    "ax.set_xlabel(\"Layer Name\")\n",
    "ax.set_ylabel(\"Megabytes\")\n",
    "ax.set_title(f\"Storage capacity when using {BITS_TO_USE} bits from every float value\");"
   ]
  },
  {
   "cell_type": "markdown",
   "id": "078de9f5",
   "metadata": {},
   "source": [
    "## Inspect statistics for selected layers"
   ]
  },
  {
   "cell_type": "code",
   "execution_count": null,
   "id": "cdc923c0",
   "metadata": {},
   "outputs": [],
   "source": [
    "layer_names = list(layers_storage_capacity_mb.keys())\n",
    "selected_layers_weights = []\n",
    "for n in layer_names:\n",
    "    v = model.get_layer(n).weights[0].numpy().ravel()\n",
    "    selected_layers_weights.extend(v)\n",
    "selected_layers_weights = np.array(selected_layers_weights)"
   ]
  },
  {
   "cell_type": "markdown",
   "id": "7b2198ac",
   "metadata": {},
   "source": [
    "## Basic statistics"
   ]
  },
  {
   "cell_type": "code",
   "execution_count": null,
   "id": "e3651fb8",
   "metadata": {},
   "outputs": [],
   "source": [
    "nb_values = len(selected_layers_weights)\n",
    "min_value = selected_layers_weights.min()\n",
    "abs_min_value = np.abs(selected_layers_weights).min()\n",
    "max_value = selected_layers_weights.max()\n",
    "mean_value = selected_layers_weights.mean()\n",
    "nb_really_small_values = (abs(selected_layers_weights) < 10e-4).sum()\n",
    "nb_small_values = (abs(selected_layers_weights) < 10e-3).sum()\n",
    "nb_negative_values = (selected_layers_weights < 0).sum()\n",
    "nb_positive_values = (selected_layers_weights > 0).sum()\n",
    "overall_storage_capacity_bytes = nb_values * BITS_TO_USE / 8\n",
    "overall_storage_capacity_mb = overall_storage_capacity_bytes // float(1<<20)\n",
    "print(f\"\"\"Stats for {layer_names}\n",
    "---\n",
    "Min: {min_value}\n",
    "Abs. Min {abs_min_value}\n",
    "Max: {max_value}\n",
    "Mean: {mean_value}\n",
    "---\n",
    "Nb total values: {nb_values}\n",
    "Nb values < 10e-4: {nb_really_small_values} - {nb_really_small_values/nb_values*100:.4f}%\n",
    "Nb values < 10e-3: {nb_small_values} - {nb_small_values/nb_values*100:.4f}%\n",
    "Nb negatives: {nb_negative_values} - {nb_negative_values/nb_values*100:.4f}%\n",
    "Nb positives: {nb_positive_values} - {nb_positive_values/nb_values*100:.4f}%\n",
    "---\n",
    "(Maximum) Storage capacity is {overall_storage_capacity_mb} MB for the {len(layer_names)} layers with the {BITS_TO_USE} bits modification\n",
    "\"\"\")"
   ]
  },
  {
   "cell_type": "markdown",
   "id": "756b2e6c",
   "metadata": {},
   "source": [
    "## Hide a secret in the layer\n",
    "\n",
    "### The secret"
   ]
  },
  {
   "cell_type": "code",
   "execution_count": null,
   "id": "c7dff87f",
   "metadata": {},
   "outputs": [],
   "source": [
    "secret_to_hide = \"I am Ram and I would like to hide this message\"\n",
    "secret_bits = str_to_bits(secret_to_hide)\n",
    "nb_vals_needed = math.ceil(len(secret_bits) / BITS_TO_USE)\n",
    "print(f\"We need {nb_vals_needed} float values to store the info\\nOverall number of values we could use: {nb_values}\")"
   ]
  },
  {
   "cell_type": "markdown",
   "id": "2add5c53",
   "metadata": {},
   "source": [
    "### Hide it\n",
    "\n",
    "#### Store the original weights"
   ]
  },
  {
   "cell_type": "code",
   "execution_count": null,
   "id": "00973e43",
   "metadata": {},
   "outputs": [],
   "source": [
    "original_weights_dict: dict = {}\n",
    "for n in layer_names:\n",
    "    original_weights_dict[n] = deepcopy(model.get_layer(n).weights[0].numpy())"
   ]
  },
  {
   "cell_type": "markdown",
   "id": "02741759",
   "metadata": {},
   "source": [
    "#### Create the modified ones"
   ]
  },
  {
   "cell_type": "code",
   "execution_count": null,
   "id": "affbf130",
   "metadata": {},
   "outputs": [],
   "source": [
    "modified_weights_dict = deepcopy(original_weights_dict)\n",
    "last_index_used_in_layer_dict: dict = {}\n",
    "\n",
    "\n",
    "i = 0\n",
    "for n in layer_names:\n",
    "    if i >= nb_vals_needed:\n",
    "        break\n",
    "    w = modified_weights_dict[n]\n",
    "    w_shape = w.shape\n",
    "    w = w.ravel()\n",
    "    nb_params_in_layer: int = np.prod(w.shape)\n",
    "    for j in range(nb_params_in_layer):\n",
    "        _from_index = i * BITS_TO_USE\n",
    "        _to_index = _from_index + BITS_TO_USE\n",
    "        bits_to_hide = secret_bits[_from_index:_to_index]\n",
    "        bits_to_hide = list(map(bool, bits_to_hide))\n",
    "\n",
    "        x = FloatBinary(w[j])\n",
    "        fraction_modified = list(x.fraction)\n",
    "        if len(bits_to_hide) > 0:\n",
    "            fraction_modified[-BITS_TO_USE:] = bits_to_hide\n",
    "\n",
    "        x_modified = x.modify_clone(fraction=tuple(fraction_modified))\n",
    "        w[j] = x_modified.v\n",
    "        i += 1\n",
    "        \n",
    "        if i >= nb_vals_needed:\n",
    "            break\n",
    "    last_index_used_in_layer_dict[n] = j\n",
    "    w = w.reshape(w_shape)\n",
    "    modified_weights_dict[n] = w\n",
    "    print(f\"Layer {n} is processed, last index modified: {j}\")"
   ]
  },
  {
   "cell_type": "markdown",
   "id": "e42a6d42",
   "metadata": {},
   "source": [
    "## Let's test the network and inspect the outputs\n",
    "\n",
    "### Dataset to test on"
   ]
  },
  {
   "cell_type": "code",
   "execution_count": null,
   "id": "463a2632",
   "metadata": {},
   "outputs": [],
   "source": [
    "print(f\"Number of images will be used for testing: {len(IMAGES_TO_TEST_ON)}\")"
   ]
  },
  {
   "cell_type": "code",
   "execution_count": null,
   "id": "65c81958",
   "metadata": {},
   "outputs": [],
   "source": [
    "batch_size = 8\n",
    "def _read_image_from_path(image_path):\n",
    "    image = tf.io.read_file(image_path)\n",
    "    image = tf.image.decode_image(image, channels=3, dtype=tf.uint8, expand_animations=False)\n",
    "    image = tf.image.resize(image, (32, 32))\n",
    "    return image\n",
    "dataset = tf.data.Dataset.from_tensor_slices(IMAGES_TO_TEST_ON)\n",
    "dataset = dataset.map(_read_image_from_path, num_parallel_calls=tf.data.AUTOTUNE)\n",
    "dataset = dataset.batch(batch_size).prefetch(tf.data.AUTOTUNE)"
   ]
  },
  {
   "cell_type": "markdown",
   "id": "381538a1",
   "metadata": {},
   "source": [
    "## Predictions made by the model\n",
    "\n",
    "### Original weights predictions"
   ]
  },
  {
   "cell_type": "code",
   "execution_count": null,
   "id": "41146cfe",
   "metadata": {},
   "outputs": [],
   "source": [
    "for n in layer_names:\n",
    "    w = original_weights_dict[n]\n",
    "    model.get_layer(n).set_weights([w, model.get_layer(n).get_weights()[1]])"
   ]
  },
  {
   "cell_type": "code",
   "execution_count": null,
   "id": "2493f4b6",
   "metadata": {},
   "outputs": [],
   "source": [
    "preds_original = model.predict(dataset)"
   ]
  },
  {
   "cell_type": "markdown",
   "id": "6f91a91b",
   "metadata": {},
   "source": [
    "### Modified weights predictions"
   ]
  },
  {
   "cell_type": "code",
   "execution_count": null,
   "id": "2075d974",
   "metadata": {},
   "outputs": [],
   "source": [
    "for n in layer_names:\n",
    "    w = modified_weights_dict[n]\n",
    "    model.get_layer(n).set_weights([w, model.get_layer(n).get_weights()[1]])"
   ]
  },
  {
   "cell_type": "code",
   "execution_count": null,
   "id": "8540fbf8",
   "metadata": {},
   "outputs": [],
   "source": [
    "preds_modified = model.predict(dataset)"
   ]
  },
  {
   "cell_type": "markdown",
   "id": "f2372871",
   "metadata": {},
   "source": [
    "## Differences in predictions\n",
    "\n",
    "### Raw prediction value comparisons (last layer output)"
   ]
  },
  {
   "cell_type": "code",
   "execution_count": null,
   "id": "b9a3aafb",
   "metadata": {},
   "outputs": [],
   "source": [
    "diff_abs = np.abs(preds_original - preds_modified).ravel()\n",
    "plt.hist(diff_abs[diff_abs >= 0]);"
   ]
  },
  {
   "cell_type": "code",
   "execution_count": null,
   "id": "876ed1c8",
   "metadata": {},
   "outputs": [],
   "source": [
    "print(f\"Min abs difference: {diff_abs.min()}\")\n",
    "print(f\"Max abs difference: {diff_abs.max()}\")\n",
    "print(f\"Number of changed prediction values: {(diff_abs > 0).sum()} / {len(diff_abs)} | {(diff_abs > 0).sum()/len(diff_abs)*100:.4f}%\")"
   ]
  },
  {
   "cell_type": "markdown",
   "id": "6f2df9b1",
   "metadata": {},
   "source": [
    "### Change in predicted labels"
   ]
  },
  {
   "cell_type": "code",
   "execution_count": null,
   "id": "5f517016",
   "metadata": {},
   "outputs": [],
   "source": [
    "nb_changed_pred_labels = ((np.argmax(preds_original, 1) - np.argmax(preds_modified, 1)) > 0).sum()\n",
    "\n",
    "print(f\"Changed number of predictions: {nb_changed_pred_labels} / {len(IMAGES_TO_TEST_ON)} | {nb_changed_pred_labels / len(IMAGES_TO_TEST_ON)*100}%\")"
   ]
  },
  {
   "cell_type": "markdown",
   "id": "887515b3",
   "metadata": {},
   "source": [
    "### Recover the secret"
   ]
  },
  {
   "cell_type": "code",
   "execution_count": null,
   "id": "88983579",
   "metadata": {},
   "outputs": [],
   "source": [
    "hidden_data: List[bool] = []\n",
    "for n in layer_names:\n",
    "    if n not in last_index_used_in_layer_dict.keys():\n",
    "        continue\n",
    "    \n",
    "    w = modified_weights_dict[n]\n",
    "    w_shape = w.shape\n",
    "    w = w.ravel()\n",
    "    nb_params_in_layer: int = np.prod(w.shape)\n",
    "    for i in range(last_index_used_in_layer_dict[n]+1):\n",
    "        x = FloatBinary(w[i])\n",
    "        hidden_bits = x.fraction[-BITS_TO_USE:]\n",
    "        hidden_data.extend(hidden_bits)\n",
    "    print(f\"Layer {n} is processed, bits are extracted\")"
   ]
  },
  {
   "cell_type": "code",
   "execution_count": null,
   "id": "08ec773a",
   "metadata": {},
   "outputs": [],
   "source": [
    "recovered_message: str = bits_to_str(list(map(int, hidden_data)))\n",
    "chars_to_display = 100\n",
    "print(f\"--Original string:--\\n'{secret_to_hide[:chars_to_display]}...'\")\n",
    "print(f\"--Recovered string:--\\n'{recovered_message[:chars_to_display]}...'\")"
   ]
  },
  {
   "cell_type": "code",
   "execution_count": null,
   "id": "7d8bf06c",
   "metadata": {},
   "outputs": [],
   "source": [
    "def hash_str(s: str) -> str:\n",
    "    return hashlib.md5(s.encode(\"ascii\")).hexdigest()\n",
    "if hash_str(recovered_message) == hash_str(secret_to_hide):\n",
    "    print(\"Successful secret hiding and recovery! 🥳\")\n",
    "else:\n",
    "    print(\"Recovered message is not the same as the original one 🤨\")"
   ]
  },
  {
   "cell_type": "code",
   "execution_count": null,
   "id": "c8da0696",
   "metadata": {},
   "outputs": [],
   "source": []
  }
 ],
 "metadata": {
  "kernelspec": {
   "display_name": "Python 3 (ipykernel)",
   "language": "python",
   "name": "python3"
  },
  "language_info": {
   "codemirror_mode": {
    "name": "ipython",
    "version": 3
   },
   "file_extension": ".py",
   "mimetype": "text/x-python",
   "name": "python",
   "nbconvert_exporter": "python",
   "pygments_lexer": "ipython3",
   "version": "3.11.3"
  }
 },
 "nbformat": 4,
 "nbformat_minor": 5
}
